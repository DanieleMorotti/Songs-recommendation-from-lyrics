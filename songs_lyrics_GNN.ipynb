{
  "nbformat": 4,
  "nbformat_minor": 0,
  "metadata": {
    "colab": {
      "provenance": [],
      "collapsed_sections": [
        "z4WK5k7N0aab",
        "TDjXlj3vydAe",
        "p_TeX6iguEBh",
        "AMTa2eINlgrg",
        "pi_tXEoXKFAx",
        "xHGl7SWc1rTQ",
        "g1XjFG307wbp",
        "aELI99bu75dm"
      ]
    },
    "kernelspec": {
      "name": "python3",
      "display_name": "Python 3"
    },
    "language_info": {
      "name": "python"
    },
    "gpuClass": "standard",
    "accelerator": "GPU"
  },
  "cells": [
    {
      "cell_type": "markdown",
      "source": [
        "# Songs recommendation with GNN"
      ],
      "metadata": {
        "id": "xLECgWNJuDPp"
      }
    },
    {
      "cell_type": "markdown",
      "source": [
        "TODO:\n",
        "- remove the 'to(device)' commented in train and test functions\n",
        "- multiply the edge feature for the weights taken from the dataframe"
      ],
      "metadata": {
        "id": "kJAfzeSflwYM"
      }
    },
    {
      "cell_type": "markdown",
      "source": [
        "Graph Neural Networks (GNNs) have recently gained increasing popularity in both research and real-world applications, therefore I decided to test several models in order to learn from the lyrics and from some other features of the songs, which are the ones related to each other.\n",
        "\n",
        "The key idea of GNNs is to leverage the graph structure to update the node embedddings based on the local neighborhood around each node. By propagating these embeddings across the graph multiple times, it begins to incorporate information from both the local neighborhood and the more global one.\n",
        "\n",
        "Like other neural networks, GNN architectures are composed by multiple layers, each layer can be split in three parts:\n",
        "- ***message***: for a given central node, each neighbor passes its current embedding (that can be processed by a function) to the central node;\n",
        "- ***aggregation***: the messages from the neighbors are aggregated to produce a single embedding (e.g. sum, average, max);\n",
        "- ***update***: in this step the embedding of node *i* at the previous layer is combined with the neighborhood aggregation at the current layer.\n",
        "\n",
        "In the section about the models I will explain the characteristics of the models that I chose to test.\n"
      ],
      "metadata": {
        "id": "0WOzl34d0f8m"
      }
    },
    {
      "cell_type": "code",
      "source": [
        "from google.colab import drive\n",
        "drive.mount('/content/drive')"
      ],
      "metadata": {
        "id": "i4JzVd1zZW3x",
        "colab": {
          "base_uri": "https://localhost:8080/"
        },
        "outputId": "717acab1-a202-4c60-833c-52b37abe1986"
      },
      "execution_count": null,
      "outputs": [
        {
          "output_type": "stream",
          "name": "stdout",
          "text": [
            "Mounted at /content/drive\n"
          ]
        }
      ]
    },
    {
      "cell_type": "markdown",
      "source": [
        "## Installation of the libraries and download of the datasets"
      ],
      "metadata": {
        "id": "z4WK5k7N0aab"
      }
    },
    {
      "cell_type": "markdown",
      "source": [
        "As dataset I used a subset of the [Million Songs Dataset](http://millionsongdataset.com/), created by combining the musiXmatch and the Last.fm versions to retrieve the song lyrics and the similar songs respectively. You can download the script that create the dataset from Drive and execute it to create also the datasets for the analysis on R.\n",
        "\n",
        "For the creation of the models I used the [PyTorch Geometric](https://pytorch-geometric.readthedocs.io/en/latest/) library, because is probably the most efficient and well supported tool for dealing with GNNs."
      ],
      "metadata": {
        "id": "L55SMK6WZty7"
      }
    },
    {
      "cell_type": "code",
      "source": [
        "!rm -r sample_data"
      ],
      "metadata": {
        "id": "cZgYdz2VlEbf"
      },
      "execution_count": null,
      "outputs": []
    },
    {
      "cell_type": "code",
      "source": [
        "import os\n",
        "import torch\n",
        "\n",
        "os.environ['TORCH'] = torch.__version__\n",
        "print(f\"torch version: {torch.__version__}\")\n",
        "\n",
        "!pip install -q torch-scatter -f https://data.pyg.org/whl/torch-${TORCH}.html\n",
        "!pip install -q torch-sparse -f https://data.pyg.org/whl/torch-${TORCH}.html\n",
        "!pip install -q torch-geometric -f https://data.pyg.org/whl/torch-${TORCH}.html\n",
        "\n",
        "!pip install --upgrade --no-cache-dir -q gdown\n",
        "import gdown"
      ],
      "metadata": {
        "id": "c6WCiStzNd7G",
        "colab": {
          "base_uri": "https://localhost:8080/"
        },
        "outputId": "31cf99e2-aad1-4615-d91d-b2b080d54677"
      },
      "execution_count": 2,
      "outputs": [
        {
          "output_type": "stream",
          "name": "stdout",
          "text": [
            "torch version: 1.13.1+cu116\n",
            "\u001b[2K     \u001b[90m━━━━━━━━━━━━━━━━━━━━━━━━━━━━━━━━━━━━━━━━\u001b[0m \u001b[32m9.4/9.4 MB\u001b[0m \u001b[31m45.7 MB/s\u001b[0m eta \u001b[36m0:00:00\u001b[0m\n",
            "\u001b[2K     \u001b[90m━━━━━━━━━━━━━━━━━━━━━━━━━━━━━━━━━━━━━━━━\u001b[0m \u001b[32m4.5/4.5 MB\u001b[0m \u001b[31m19.8 MB/s\u001b[0m eta \u001b[36m0:00:00\u001b[0m\n",
            "\u001b[2K     \u001b[90m━━━━━━━━━━━━━━━━━━━━━━━━━━━━━━━━━━━━━━\u001b[0m \u001b[32m565.0/565.0 KB\u001b[0m \u001b[31m25.1 MB/s\u001b[0m eta \u001b[36m0:00:00\u001b[0m\n",
            "\u001b[?25h  Preparing metadata (setup.py) ... \u001b[?25l\u001b[?25hdone\n",
            "\u001b[2K     \u001b[90m━━━━━━━━━━━━━━━━━━━━━━━━━━━━━━━━━━━━━━\u001b[0m \u001b[32m280.2/280.2 KB\u001b[0m \u001b[31m11.4 MB/s\u001b[0m eta \u001b[36m0:00:00\u001b[0m\n",
            "\u001b[?25h  Building wheel for torch-geometric (setup.py) ... \u001b[?25l\u001b[?25hdone\n"
          ]
        }
      ]
    },
    {
      "cell_type": "markdown",
      "source": [
        "In the following cells you can choose either to download and create the dataset, elaborating the data from the Million Song Dataset (also using the musiXmatch and the Last.fm versions) or to copy the already created files from Drive."
      ],
      "metadata": {
        "id": "9L7GseIgpt9j"
      }
    },
    {
      "cell_type": "code",
      "source": [
        "#@title #### Load the files from Drive\n",
        "#@markdown Download the training and evaluation dataset from Drive.\n",
        "\n",
        "# File ids in Drive\n",
        "url_train_data = \"1-1I90HW0wZ1eVgXX9KETgEgYcnvJ0qAg\"\n",
        "url_validation_data = \"1-1kUEXn2Hw_FB-xWbXk6njIao2RwhSSO\"\n",
        "\n",
        "gdown.download(id=url_train_data, output=\"songs_train.csv\", quiet=False)\n",
        "gdown.download(id=url_validation_data, output=\"songs_val.csv\", quiet=False)"
      ],
      "metadata": {
        "id": "yQDiL4g_guxc",
        "cellView": "form"
      },
      "execution_count": null,
      "outputs": []
    },
    {
      "cell_type": "code",
      "source": [
        "#@title #### Download the script and create the datasets\n",
        "#@markdown It first downloads the script and then it executes it to create the needed datasets.\n",
        "#url_script = \"\"\n",
        "#gdown.download(id=url_script, output=\"create_dataset.py\", quiet=True)\n",
        "\n",
        "!python create_dataset.py"
      ],
      "metadata": {
        "cellView": "form",
        "id": "5Tb0GhggjyyF"
      },
      "execution_count": null,
      "outputs": []
    },
    {
      "cell_type": "markdown",
      "source": [
        "The downloaded files, or the created variables, are not suitable to work with PyG, therefore I made some preprocessing on the dataframe in order to create the nodes and the edges of the GNN."
      ],
      "metadata": {
        "id": "NXk7HrgKxxB9"
      }
    },
    {
      "cell_type": "markdown",
      "source": [
        "## Preprocessing to create graph data"
      ],
      "metadata": {
        "id": "014OtjHQ9NiY"
      }
    },
    {
      "cell_type": "markdown",
      "source": [
        "As said before, the downloaded dataframe is not usable for creating the GNN, I have to preprocess the data in a specific way, creating the ids for the nodes, generating the edges and computing the features to use for these elements. First of all let's import all the needed libraries."
      ],
      "metadata": {
        "id": "BC6fxehjcgl2"
      }
    },
    {
      "cell_type": "code",
      "source": [
        "# Import the PyG modules\n",
        "from torch_geometric import seed_everything\n",
        "from torch_geometric.data import Data, Dataset, InMemoryDataset\n",
        "from torch_geometric.loader import DataLoader\n",
        "from torch_geometric.nn import MessagePassing\n",
        "from torch_geometric.transforms import RandomLinkSplit\n",
        "from torch_geometric.utils import degree\n",
        "\n",
        "# Basic modules to deal with dataframe\n",
        "import pandas as pd\n",
        "import numpy as np\n",
        "import json\n",
        "import matplotlib.pyplot as plt\n",
        "\n",
        "# Scikit-learn modules to create song lyrics embeddings\n",
        "from sklearn.decomposition import TruncatedSVD\n",
        "from sklearn.preprocessing import LabelEncoder, StandardScaler, Normalizer\n",
        "from sklearn.feature_extraction.text import TfidfVectorizer\n",
        "\n",
        "# Monitor the progress of the functions\n",
        "from tqdm import tqdm\n",
        "tqdm.pandas()\n",
        "# Avoid warnings\n",
        "pd.options.mode.chained_assignment = None\n",
        "\n",
        "# nltk preprocessing to remove stopwords\n",
        "import nltk\n",
        "nltk.download('stopwords', quiet=True)\n",
        "from nltk.corpus import stopwords\n",
        "stop = stopwords.words('english')\n",
        "\n",
        "# Set a seed for every random operation\n",
        "seed_everything(88)"
      ],
      "metadata": {
        "id": "RY0LAOGcGZXM"
      },
      "execution_count": 144,
      "outputs": []
    },
    {
      "cell_type": "markdown",
      "source": [
        "### Download the preprocessed files"
      ],
      "metadata": {
        "id": "TDjXlj3vydAe"
      }
    },
    {
      "cell_type": "markdown",
      "source": [
        "Download the files from Drive avoiding to run the preprocessing operations and load them into some variables."
      ],
      "metadata": {
        "id": "llSRMLHwyidb"
      }
    },
    {
      "cell_type": "code",
      "source": [
        "url_graph_data = \"1WKrN3NpXNdIovXdwEeGH9ZEUUYNOVI6j\"\n",
        "url_core_mapping = \"1-3K1BqkUItn93_m7Wq1QGvESAXrt0RCd\"\n",
        "url_track_id_mapping = \"1-548e0dADOLkbRoirJVTw5I2_ni1Ldif\"\n",
        "url_reduced_df = \"1-1PXzF3XK6TsFdfvaxM708nCUrZKkRPz\"\n",
        "\n",
        "file_names = ['graph_data.pt', 'core_mapping.json', 'track_id_mapping.json', 'reduced_df.csv']\n",
        "\n",
        "for name, url_id in zip(file_names, [url_graph_data, url_core_mapping, url_track_id_mapping, url_reduced_df]):\n",
        "    # If graph data, put into raw to preprocess with the dataset \n",
        "    if name == file_names[0]:\n",
        "        if not os.path.exists('raw'):\n",
        "            os.mkdir('raw')\n",
        "        name = os.path.join('raw', name)\n",
        "    gdown.download(id=url_id, output=name, quiet=True)"
      ],
      "metadata": {
        "id": "siBg_97WuGd7"
      },
      "execution_count": 4,
      "outputs": []
    },
    {
      "cell_type": "markdown",
      "source": [
        "After having loaded the pre-saved files from Drive, execute the following cell to have the data loaded in the variables."
      ],
      "metadata": {
        "id": "iPQNMi5PwLfV"
      }
    },
    {
      "cell_type": "code",
      "source": [
        "reduced_df = pd.read_csv(file_names[3])\n",
        "\n",
        "with open(file_names[1], 'r') as fin1, open(file_names[2], 'r') as fin2:\n",
        "    core_mapping = json.load(fin1)\n",
        "    id_mapping = json.load(fin2)\n",
        "\n",
        "graph_data = torch.load(os.path.join('raw', file_names[0]))\n",
        "\n",
        "# The mappings to retrieve the correct ids\n",
        "track_to_id, id_to_track = id_mapping['track_to_id'], id_mapping['id_to_track']\n",
        "old_to_core_id, core_to_old_id = core_mapping['old_to_core_id'], core_mapping['core_to_old_id']"
      ],
      "metadata": {
        "id": "dUBNt7UawSnD"
      },
      "execution_count": 5,
      "outputs": []
    },
    {
      "cell_type": "markdown",
      "source": [
        "At this point you can skip the preprocessing part and go to the 'Models' section."
      ],
      "metadata": {
        "id": "MDRpSmbXx-6I"
      }
    },
    {
      "cell_type": "markdown",
      "source": [
        "### Execute preprocessing"
      ],
      "metadata": {
        "id": "p_TeX6iguEBh"
      }
    },
    {
      "cell_type": "markdown",
      "source": [
        "In the following cells there are all the needed passages to build the files that I also saved to Drive."
      ],
      "metadata": {
        "id": "xucZYqw8wY7Y"
      }
    },
    {
      "cell_type": "code",
      "source": [
        "#@title #### Preprocessing useful functions\n",
        "#@markdown I implemented different functions to make the preprocessing operations.\n",
        "def check_evaluation_dataset(target, track_id_list):\n",
        "    '''\n",
        "        It removes from the target string all the similar songs that are not\n",
        "        in our main dataset.\n",
        "    '''\n",
        "    target_list = target.split(',')\n",
        "    # We need to preserve the order of relevance for computing the mAP\n",
        "    present = sorted(set(target_list).intersection(track_id_list), key=target_list.index)\n",
        "    return ','.join(present)\n",
        "\n",
        "\n",
        "def remove_stopwords(text, stop):\n",
        "    '''\n",
        "        It returns the string without the words within the list 'stop'.\n",
        "    '''\n",
        "    result = ' '.join([word for word in text.split(\" \") if word not in stop])\n",
        "    return result\n",
        "\n",
        "\n",
        "def project_text_lsa(text, vocabulary, words_matrix):\n",
        "    '''\n",
        "        It projects a given text in the latent space, it first computes the TF-IDF\n",
        "        vector considering the same vocabulary used to build the latent space and \n",
        "        then it projects the vector using the transpose words matrix. \n",
        "    '''\n",
        "    vectorizer = TfidfVectorizer(vocabulary=vocabulary)\n",
        "\n",
        "    tf_idf_vector = torch.tensor(vectorizer.fit_transform([text]).toarray(), dtype=torch.float32)\n",
        "\n",
        "    # Compute the projection\n",
        "    ls_vector = tf_idf_vector @ words_matrix.t()\n",
        "\n",
        "    return ls_vector\n",
        "\n",
        "\n",
        "def map_string_ids_to_num(str_list, mapping):\n",
        "    conversion = str_list\n",
        "    for tid in str_list.split(\",\"):\n",
        "        if tid in mapping:\n",
        "            conversion = conversion.replace(tid, str(mapping[tid]))\n",
        "        else:\n",
        "            # Remove ids that are not in the dataset\n",
        "            conversion = conversion.replace(f'{tid},', '')\n",
        "    return conversion"
      ],
      "metadata": {
        "id": "Wp4Ilv3JsTVw",
        "cellView": "form"
      },
      "execution_count": null,
      "outputs": []
    },
    {
      "cell_type": "markdown",
      "source": [
        "The needed operations, before to create the graph, are the following:\n",
        "- remove the NA elements from the dataframe;\n",
        "- keep only the nodes with a number of similar songs between 5 and 50 in order to reduce the dataset;\n",
        "- remove the stopwords from the lyrics;\n",
        "- check that in the similar song lists there are songs still present in the dataset."
      ],
      "metadata": {
        "id": "jPoNlYeZdUp6"
      }
    },
    {
      "cell_type": "code",
      "source": [
        "train_df = pd.read_csv('songs_train.csv')\n",
        "print(f\"The length of the dataframe is {len(train_df)}.\\n\")\n",
        "\n",
        "train_df = train_df.dropna()\n",
        "# Keep only the nodes that have between 5 and 50 similar songs (edges)\n",
        "reduced_df = train_df[(train_df['similars'].str.split(',').apply(len) >= 5) & (train_df['similars'].str.split(',').apply(len) <= 75)]\n",
        "\n",
        "# Remove the stopwords from the lyrics\n",
        "tqdm.pandas(desc=\"- Removing stopwords from lyrics\")\n",
        "reduced_df['lyrics'] = reduced_df['lyrics'].progress_apply(remove_stopwords, stop=stop)\n",
        "\n",
        "# Check and keep only the lyrics with at least one word\n",
        "reduced_df = reduced_df[~(reduced_df['lyrics'] == \"\")]\n",
        "tqdm.pandas(desc=\"- (1) Keep only similar songs that are in the dataset\")\n",
        "reduced_df['similars'] = reduced_df['similars'].progress_apply(check_evaluation_dataset, track_id_list=reduced_df['track_id'].tolist())\n",
        "\n",
        "# Remove the songs that are without similars\n",
        "reduced_df = reduced_df[~(reduced_df.similars == \"\")].reset_index(drop=True)\n",
        "# Last check after removal of songs without similars\n",
        "tqdm.pandas(desc=\"- (2) Keep only similar songs that are in the dataset\")\n",
        "reduced_df['similars'] = reduced_df['similars'].progress_apply(check_evaluation_dataset, track_id_list=reduced_df['track_id'].tolist())\n",
        "\n",
        "print(f\"\\n\\nThe length of the reduced dataframe is {len(reduced_df)}.\")"
      ],
      "metadata": {
        "id": "OGW-1rjmd5eQ",
        "colab": {
          "base_uri": "https://localhost:8080/"
        },
        "outputId": "9e072e3f-82eb-444a-8f9d-6cc90c37b245"
      },
      "execution_count": null,
      "outputs": [
        {
          "output_type": "stream",
          "name": "stdout",
          "text": [
            "The length of the dataframe is 105031.\n",
            "\n"
          ]
        },
        {
          "output_type": "stream",
          "name": "stderr",
          "text": [
            "- Removing stopwords from lyrics: 100%|██████████| 99086/99086 [00:24<00:00, 4080.77it/s]\n",
            "- (1) Keep only similar songs that are in the dataset: 100%|██████████| 99076/99076 [03:01<00:00, 545.03it/s]\n",
            "- (2) Keep only similar songs that are in the dataset: 100%|██████████| 99073/99073 [02:51<00:00, 576.82it/s]"
          ]
        },
        {
          "output_type": "stream",
          "name": "stdout",
          "text": [
            "\n",
            "\n",
            "The length of the reduced dataframe is 99073.\n"
          ]
        },
        {
          "output_type": "stream",
          "name": "stderr",
          "text": [
            "\n"
          ]
        }
      ]
    },
    {
      "cell_type": "markdown",
      "source": [
        "After the previous steps I create a numerical id for the songs and for the tags (genres)."
      ],
      "metadata": {
        "id": "6MJdKtBpfrw-"
      }
    },
    {
      "cell_type": "code",
      "source": [
        "# Encode each song with a numerical ID\n",
        "item_encoder = LabelEncoder()\n",
        "reduced_df['item_id'] = item_encoder.fit_transform(reduced_df['track_id'])\n",
        "\n",
        "# Encode the genre as numerical values\n",
        "genre_encoder = LabelEncoder()\n",
        "reduced_df['tag'] = genre_encoder.fit_transform(reduced_df['tag'])"
      ],
      "metadata": {
        "id": "G0faT0LNEawL"
      },
      "execution_count": null,
      "outputs": []
    },
    {
      "cell_type": "markdown",
      "source": [
        "I also created a mapping to convert from string ids to numerical ones and viceversa, then I apply the conversion to the similar song lists."
      ],
      "metadata": {
        "id": "eEUYtRlCgDBo"
      }
    },
    {
      "cell_type": "code",
      "source": [
        "# Create the mapping from track_id to item_id and viceversa\n",
        "track_to_id = {}\n",
        "id_to_track = {}\n",
        "for tid, iid in zip(reduced_df['track_id'], reduced_df['item_id']):\n",
        "    track_to_id[tid] = iid\n",
        "    id_to_track[iid] = tid\n",
        "\n",
        "# Convert the list of similar songs to list of numerical ids\n",
        "tqdm.pandas(desc=\"Convert similar songs track ids to numerical ids\")\n",
        "reduced_df['similars'] = reduced_df['similars'].progress_apply(map_string_ids_to_num, mapping=track_to_id)"
      ],
      "metadata": {
        "id": "XovUyWPwEgSg",
        "colab": {
          "base_uri": "https://localhost:8080/"
        },
        "outputId": "e76a4302-f09c-4cdb-f332-1f0edec8eeae"
      },
      "execution_count": null,
      "outputs": [
        {
          "output_type": "stream",
          "name": "stderr",
          "text": [
            "Convert similar songs track ids to numerical ids: 100%|██████████| 99073/99073 [00:03<00:00, 26054.00it/s]\n"
          ]
        }
      ]
    },
    {
      "cell_type": "markdown",
      "source": [
        "After all this operations I can create the graph structure that I will use later for the GNN model."
      ],
      "metadata": {
        "id": "pVOlScTYzoBS"
      }
    },
    {
      "cell_type": "markdown",
      "source": [
        "#### Creation of the nodes and edges data"
      ],
      "metadata": {
        "id": "1GbyDczFhHWH"
      }
    },
    {
      "cell_type": "markdown",
      "source": [
        "To create the graph in a simple way, I decided to use the snap library from Stanford, that allows to work with graphs and to perform some operations on them."
      ],
      "metadata": {
        "id": "tdmbyXuiH1vm"
      }
    },
    {
      "cell_type": "code",
      "source": [
        "!pip install -q snap-stanford\n",
        "\n",
        "# Install snap for simple graph creation\n",
        "import snap"
      ],
      "metadata": {
        "id": "6znHH7auh6Yd",
        "colab": {
          "base_uri": "https://localhost:8080/"
        },
        "outputId": "245a8574-fd9f-46f9-f8cf-4258ac85df88"
      },
      "execution_count": null,
      "outputs": [
        {
          "output_type": "stream",
          "name": "stdout",
          "text": [
            "\u001b[?25l     \u001b[90m━━━━━━━━━━━━━━━━━━━━━━━━━━━━━━━━━━━━━━━━\u001b[0m \u001b[32m0.0/11.6 MB\u001b[0m \u001b[31m?\u001b[0m eta \u001b[36m-:--:--\u001b[0m\r\u001b[2K     \u001b[91m━━━━\u001b[0m\u001b[91m╸\u001b[0m\u001b[90m━━━━━━━━━━━━━━━━━━━━━━━━━━━━━━━━━━━\u001b[0m \u001b[32m1.4/11.6 MB\u001b[0m \u001b[31m40.4 MB/s\u001b[0m eta \u001b[36m0:00:01\u001b[0m\r\u001b[2K     \u001b[91m━━━━━━━━━━━━━━━━━━━━━━━━━━━\u001b[0m\u001b[91m╸\u001b[0m\u001b[90m━━━━━━━━━━━━\u001b[0m \u001b[32m8.0/11.6 MB\u001b[0m \u001b[31m117.2 MB/s\u001b[0m eta \u001b[36m0:00:01\u001b[0m\r\u001b[2K     \u001b[91m━━━━━━━━━━━━━━━━━━━━━━━━━━━━━━━━━━━━━━\u001b[0m\u001b[91m╸\u001b[0m \u001b[32m11.6/11.6 MB\u001b[0m \u001b[31m200.7 MB/s\u001b[0m eta \u001b[36m0:00:01\u001b[0m\r\u001b[2K     \u001b[90m━━━━━━━━━━━━━━━━━━━━━━━━━━━━━━━━━━━━━━━━\u001b[0m \u001b[32m11.6/11.6 MB\u001b[0m \u001b[31m91.8 MB/s\u001b[0m eta \u001b[36m0:00:00\u001b[0m\n",
            "\u001b[?25h"
          ]
        }
      ]
    },
    {
      "cell_type": "code",
      "source": [
        "# Create an undirected graph instance\n",
        "G = snap.snap.TUNGraph().New()\n",
        "\n",
        "# First add all song IDs as nodes in G\n",
        "for i in tqdm(range(len(reduced_df))):\n",
        "    song = int(reduced_df.loc[i, 'item_id'])\n",
        "    if not G.IsNode(song):\n",
        "        G.AddNode(song)\n",
        "    # Add a node for each similar song and then add the edge\n",
        "    for sim in reduced_df.loc[i, 'similars'].split(\",\"):\n",
        "        if not G.IsNode(int(sim)):\n",
        "            G.AddNode(int(sim))\n",
        "        G.AddEdge(song, int(sim))\n",
        "\n",
        "print(\"Original graph:\")\n",
        "print(f\"Num nodes: {len([x for x in G.Nodes()])} ({len(reduced_df['item_id'])} unique songs)\")\n",
        "print(f\"Num edges: {len([x for x in G.Edges()])} (undirected)\")"
      ],
      "metadata": {
        "colab": {
          "base_uri": "https://localhost:8080/"
        },
        "id": "UV-shwPGhxeY",
        "outputId": "623f2d34-639a-474f-8c4a-c418565a6249"
      },
      "execution_count": null,
      "outputs": [
        {
          "output_type": "stream",
          "name": "stderr",
          "text": [
            "100%|██████████| 99073/99073 [00:12<00:00, 7625.78it/s]\n"
          ]
        },
        {
          "output_type": "stream",
          "name": "stdout",
          "text": [
            "Original graph:\n",
            "Num nodes: 99073 (99073 unique songs)\n",
            "Num edges: 3074999 (undirected)\n"
          ]
        }
      ]
    },
    {
      "cell_type": "markdown",
      "source": [
        "In order to avoid the usage of a huge graph I decided to compute the K-core of my graph. The K-core of a graph G is the largest possible connected subgraph of G, in which every node has a degree of at least K. This will return the largest subgraph in which each song has at least K similar songs.\n",
        "\n",
        "This operation has two advantages, it reduces the size of the dataset and it removes the songs that are not important for our analysis."
      ],
      "metadata": {
        "id": "-VwL27H10APq"
      }
    },
    {
      "cell_type": "code",
      "source": [
        "K = 42\n",
        "kcore = G.GetKCore(K)\n",
        "if kcore.Empty():\n",
        "    raise Exception(f\"No Core exists for K={K}\")\n",
        "\n",
        "print(\"K-core graph:\")\n",
        "print(f\"Num nodes: {len([x for x in kcore.Nodes()])} (and unique songs)\")\n",
        "print(f\"Num edges: {len([x for x in kcore.Edges()])} (undirected)\")"
      ],
      "metadata": {
        "id": "KPvOSNEpA8b3",
        "colab": {
          "base_uri": "https://localhost:8080/"
        },
        "outputId": "4a2da10f-cd4d-48d2-a773-a841b47ca055"
      },
      "execution_count": null,
      "outputs": [
        {
          "output_type": "stream",
          "name": "stdout",
          "text": [
            "K-core graph:\n",
            "Num nodes: 13742 (and unique songs)\n",
            "Num edges: 562448 (undirected)\n"
          ]
        }
      ]
    },
    {
      "cell_type": "markdown",
      "source": [
        "I need to re-index the nodes from 0 to n to avoid problem with PyG and I save the mapping such that I will be able to convert the new ids to the original ones."
      ],
      "metadata": {
        "id": "3gbZ__Xp0P9w"
      }
    },
    {
      "cell_type": "code",
      "source": [
        "# We need to re-index the nodes, otherwise some problems later with PyG\n",
        "old_to_core_id = {}\n",
        "core_to_old_id = {}\n",
        "for i, NI in enumerate(kcore.Nodes()):\n",
        "    old_id = NI.GetId()\n",
        "    assert old_id not in old_to_core_id\n",
        "    new_id = i\n",
        "    old_to_core_id[old_id] = new_id\n",
        "    core_to_old_id[new_id] = old_id "
      ],
      "metadata": {
        "id": "8fXZaHwJBtsS"
      },
      "execution_count": null,
      "outputs": []
    },
    {
      "cell_type": "markdown",
      "source": [
        "Now I can convert the given graph structure to the one compatible with PyG and I create a Data object."
      ],
      "metadata": {
        "id": "i0FmOcQT0pNn"
      }
    },
    {
      "cell_type": "code",
      "source": [
        "# Convert snap graph to a format that can be used in PyG, converting to edge_index and storing in a PyG Data object\n",
        "all_edges = []\n",
        "for EI in tqdm(kcore.Edges()):\n",
        "    edge_info = [old_to_core_id[EI.GetSrcNId()], old_to_core_id[EI.GetDstNId()]]\n",
        "    all_edges.append(edge_info)\n",
        "    # Also add the edge in the opposite direction because undirected\n",
        "    all_edges.append(edge_info[::-1]) \n",
        "edge_idx = torch.LongTensor(all_edges)\n",
        "\n",
        "graph_data = Data(edge_index=edge_idx.t().contiguous(), num_nodes=kcore.GetNodes())"
      ],
      "metadata": {
        "colab": {
          "base_uri": "https://localhost:8080/"
        },
        "id": "D1t987e5S8Wl",
        "outputId": "15db3369-dd56-4235-b7e0-6df3072a9974"
      },
      "execution_count": null,
      "outputs": [
        {
          "output_type": "stream",
          "name": "stderr",
          "text": [
            "562448it [00:02, 237050.85it/s]\n"
          ]
        }
      ]
    },
    {
      "cell_type": "markdown",
      "source": [
        "In order to use these data in a future run I save reduced_df, graph_data and the mappings in some files that I put on Drive. "
      ],
      "metadata": {
        "id": "Sk-aofr002Xd"
      }
    },
    {
      "cell_type": "code",
      "source": [
        "# Save Data object (for training model) and the reduced df for retrieving info about the songs in the future\n",
        "torch.save(graph_data, 'graph_data.pt')\n",
        "# Save the reduced df and the mapping from one index to another\n",
        "reduced_df.to_csv('reduced_df_GNN.csv', index=False)\n",
        "core_mapping = {'old_to_core_id': old_to_core_id, 'core_to_old_id': core_to_old_id}\n",
        "id_mapping = {'track_to_id': track_to_id, 'id_to_track': id_to_track}\n",
        "\n",
        "with open('core_mapping.json', 'w') as fp1, open('track_id_mapping.json', 'w') as fp2:\n",
        "    json.dump(core_mapping, fp1)\n",
        "    json.dump(id_mapping, fp2)"
      ],
      "metadata": {
        "id": "sp3FCMkYTeKB"
      },
      "execution_count": null,
      "outputs": []
    },
    {
      "cell_type": "markdown",
      "source": [
        "### Create graph features to use in the GNN "
      ],
      "metadata": {
        "id": "Ks4S8f1PzTQv"
      }
    },
    {
      "cell_type": "markdown",
      "source": [
        "In my case I want to exploit information from song lyrics, therefore I decided to compute a latent space, as in the analysis done with R, to build the feature matrix from them."
      ],
      "metadata": {
        "id": "lXwdvNgaMmLp"
      }
    },
    {
      "cell_type": "code",
      "source": [
        "def compute_LSA(corpus, max_features_tfidf=2000, k_svd=200):\n",
        "    '''\n",
        "        It returns the documents matrix multiplied by the singular values, both\n",
        "        computed using SVD truncated at k_svd.\n",
        "\n",
        "        Parameters:\n",
        "            - corpus: pd.Series\n",
        "                The pandas series where the function will find the texts you want\n",
        "                to use for the creation of the matrix.\n",
        "            - max_features: int\n",
        "                The maximum number of features to use for the TF-IDF matrix.\n",
        "            - k_svd: int\n",
        "                The number at which truncate the SVD matrix.\n",
        "            \n",
        "        Returns:\n",
        "            - dict, torch.tensor\n",
        "                It returns the dictionary used in the TF-IDF matrix, the tensor\n",
        "                U * sigma of the SVD decomposition, i.e. the documents matrix, and\n",
        "                the transpose of the terms matrix.\n",
        "    '''\n",
        "    # The number of terms to keep, almost half in this case\n",
        "    tfidf_vectorizer = TfidfVectorizer(max_features=max_features_tfidf)\n",
        "    tfidf_matrix = tfidf_vectorizer.fit_transform(corpus)\n",
        "    \n",
        "    # Specify the number of latent dimensions\n",
        "    lsa = TruncatedSVD(n_components=k_svd)\n",
        "    \n",
        "    # Apply the truncatedSVD function, the fit_transform function returns U*sigma\n",
        "    documents_lsa = lsa.fit_transform(tfidf_matrix) \n",
        "    # Shape of the reduced matrix\n",
        "    print(f\"The documents matrix after the SVD decomposition has shape {documents_lsa.shape}\")\n",
        "\n",
        "    # Normalize the vectors\n",
        "    documents_lsa = Normalizer(copy=False).fit_transform(documents_lsa)\n",
        "\n",
        "    return tfidf_vectorizer.vocabulary_, torch.tensor(documents_lsa, dtype=torch.float32), torch.tensor(lsa.components_, dtype=torch.float32)"
      ],
      "metadata": {
        "id": "OlcgrsQjHq7Q"
      },
      "execution_count": 157,
      "outputs": []
    },
    {
      "cell_type": "code",
      "source": [
        "songs_vocabulary, songs_lsa, terms_lsa = compute_LSA(reduced_df['lyrics'], max_features_tfidf=2000, k_svd=200)"
      ],
      "metadata": {
        "colab": {
          "base_uri": "https://localhost:8080/"
        },
        "id": "qyiGaOV9zbyo",
        "outputId": "c2dc3269-2523-4a7b-cfb2-4f6dcc50f7f6"
      },
      "execution_count": 158,
      "outputs": [
        {
          "output_type": "stream",
          "name": "stdout",
          "text": [
            "The documents matrix after the SVD decomposition has shape (75645, 200)\n"
          ]
        }
      ]
    },
    {
      "cell_type": "markdown",
      "source": [
        "At this point I have all the needed information to create an ***InMemoryDataset*** that manages the data."
      ],
      "metadata": {
        "id": "exv3S8dfNSAP"
      }
    },
    {
      "cell_type": "code",
      "source": [
        "import torch_geometric.transforms as T\n",
        "\n",
        "class MSongsDataset(InMemoryDataset):\n",
        "    def __init__(self, root, transform=None, pre_transform=None):\n",
        "        super(MSongsDataset, self).__init__(root, transform, pre_transform)\n",
        "        self.data, self.slices = torch.load(self.processed_paths[0])\n",
        "\n",
        "    @property\n",
        "    def raw_file_names(self):\n",
        "        # Retrieve the information about the edges\n",
        "        return 'graph_data.pt'\n",
        "\n",
        "    @property\n",
        "    def processed_file_names(self):\n",
        "        return 'processed_data.pt'\n",
        "\n",
        "    def download(self):\n",
        "        if not os.path.exists('raw/'):\n",
        "            os.mkdir('raw')\n",
        "        url_graph_data = \"1WKrN3NpXNdIovXdwEeGH9ZEUUYNOVI6j\"\n",
        "        gdown.download(id=url_graph_data, output=\"raw/graph_data.pt\", quiet=True)\n",
        "\n",
        "    def process(self):\n",
        "        # Check if the variable exists, otherwise import data\n",
        "        try: graph_data = graph_data\n",
        "        except: graph_data = torch.load(f'raw/{self.raw_file_names}')\n",
        "\n",
        "        # Take the embeddings of the songs within the k-core\n",
        "        if isinstance(list(core_to_old_id.keys())[0], str):\n",
        "            core_ids = [core_to_old_id[str(node.item())] for node in torch.unique(graph_data.edge_index[0,:])]\n",
        "        else:\n",
        "            core_ids = [core_to_old_id[node.item()] for node in torch.unique(graph_data.edge_index[0,:])]\n",
        "        \n",
        "        core_songs = songs_lsa[core_ids, :]\n",
        "\n",
        "        data = Data(x=core_songs, edge_index=graph_data.edge_index)\n",
        "        # Transform to sparse tensor if the transformation is given\n",
        "        data = data if self.pre_transform is None else self.pre_transform(data)\n",
        "        \n",
        "        torch.save(self.collate([data]), self.processed_paths[0])"
      ],
      "metadata": {
        "id": "fXPbCfn9L-Wy"
      },
      "execution_count": 159,
      "outputs": []
    },
    {
      "cell_type": "code",
      "source": [
        "graph_dataset = MSongsDataset(root='.', transform=T.ToSparseTensor())"
      ],
      "metadata": {
        "colab": {
          "base_uri": "https://localhost:8080/"
        },
        "id": "hpZKdJqbNGTV",
        "outputId": "f6de40cc-6afb-4b07-ece4-8dab2b9a4a3e"
      },
      "execution_count": 160,
      "outputs": [
        {
          "output_type": "stream",
          "name": "stderr",
          "text": [
            "Processing...\n",
            "Done!\n"
          ]
        }
      ]
    },
    {
      "cell_type": "markdown",
      "source": [
        "I also need to consider the split in train, validation and test sets, when dealing with graph more attention is needed since if a node is in a split, I don't want to assign the nodes connected to it to another split, otherwise I would have information mismatch.\n",
        "\n",
        "In this case I have to perform link prediction, therefore the split is done at the edge-level, I used some edges for the training and the other for validation and test and the latter ones are hidden during training. To split the edges I simply used the *RandomLinkSplit* function of PyTorch Geometric, moreover I also specify that the edges are undirected such that [1, 2] and [2, 1] will be put in the same split."
      ],
      "metadata": {
        "id": "9thTtwqGaQ2D"
      }
    },
    {
      "cell_type": "code",
      "source": [
        "split = RandomLinkSplit(num_val=0.2, num_test=0.1, is_undirected=True,\n",
        "                            add_negative_train_samples=False, neg_sampling_ratio=0.8, split_labels=True)\n",
        "train_data, val_data, test_data = split(graph_dataset[0])"
      ],
      "metadata": {
        "id": "b6OtwYPKVy7h"
      },
      "execution_count": 161,
      "outputs": []
    },
    {
      "cell_type": "markdown",
      "source": [
        "## GNN Models"
      ],
      "metadata": {
        "id": "uPi4yuf0L8oN"
      }
    },
    {
      "cell_type": "markdown",
      "source": [
        "There are different interesting GNN architectures that can be used in order to tackle the link prediction problem, I chose to implement different GraphSAGE versions because is one of the main architectures and it's an ***inductive*** net, that leverages node attribute information to generate representations on previously unseen data."
      ],
      "metadata": {
        "id": "NuDqAz7pegpt"
      }
    },
    {
      "cell_type": "code",
      "source": [
        "# Save the embedding, adjacent nodes and number of nodes in variables and move to device\n",
        "device = torch.device('cuda' if torch.cuda.is_available() else 'cpu')\n",
        "\n",
        "emb = graph_dataset[0].x.to(device)\n",
        "adj_t = graph_dataset[0].adj_t.to(device)\n",
        "num_nodes = emb.size(0)\n",
        "\n",
        "train_data = train_data.to(device)\n",
        "val_data = val_data.to(device)\n",
        "test_data = test_data.to(device)"
      ],
      "metadata": {
        "id": "Q35B1XaEgRZ5"
      },
      "execution_count": 162,
      "outputs": []
    },
    {
      "cell_type": "markdown",
      "source": [
        "### GraphSAGE Baseline"
      ],
      "metadata": {
        "id": "AMTa2eINlgrg"
      }
    },
    {
      "cell_type": "markdown",
      "source": [
        "It is characterized by a two-steps process of message and aggregation (along with a non-linearity) for creating node embeddings. Stacking successive layers allow nodes to increase their receptive field, i.e. to incorporate information from nodes that are distant. \n",
        "In GraphSAGE the *lth-layer* embedding for a node **v** is derived from the following equation:\n",
        "\n",
        "$h_v^l = \\sigma(W^l \\cdot CONCAT(h_v^{l-1}, AGG(\\{h_u^{l-1},\\forall u \\in N(v)\\})))$\n",
        "\n",
        "In the first stage, the messages from all the neighbors of v are aggregated (i.e. the embeddings from the (*l-1*)th layer are aggregated), moreover GraphSAGE has an additional step, aggregating the results from the neighbors with the v's embedding from the (*l-1*)th layer.\n",
        "\n",
        "Then the $\\sigma$ fuction can be any non-linearity (e.g. RELU) and AGG can be either a simple average or sum over all the messages, or it may incorporate a LSTM to act upon neighbors' embeddings.\n",
        "\n",
        "Additionally, L2-normalization can be applied to the embeddings at each layer and also neighbors sampling in case of large graph where full-batch training is not feasible."
      ],
      "metadata": {
        "id": "aSxlLF4NhOSq"
      }
    },
    {
      "cell_type": "markdown",
      "source": [
        "Once I have generated node embeddings using the GNN, I can then use the embeddings for any pair of nodes to predict whether they should be linked. In the base model, the LinkPredictor is simply the dot product between the two node embeddings, followed by a sigmoid non-linearity."
      ],
      "metadata": {
        "id": "8pVQJ3MIqRYW"
      }
    },
    {
      "cell_type": "code",
      "source": [
        "!pip install -q torchmetrics"
      ],
      "metadata": {
        "id": "IlZEK1jyzRfO",
        "colab": {
          "base_uri": "https://localhost:8080/"
        },
        "outputId": "0dedb5e0-a184-4596-e88c-42ac5eaca430"
      },
      "execution_count": 12,
      "outputs": [
        {
          "output_type": "stream",
          "name": "stdout",
          "text": [
            "\u001b[?25l     \u001b[90m━━━━━━━━━━━━━━━━━━━━━━━━━━━━━━━━━━━━━━━━\u001b[0m \u001b[32m0.0/517.2 KB\u001b[0m \u001b[31m?\u001b[0m eta \u001b[36m-:--:--\u001b[0m\r\u001b[2K     \u001b[90m━━━━━━━━━━━━━━━━━━━━━━━━━━━━━━━━━━━━━━\u001b[0m \u001b[32m517.2/517.2 KB\u001b[0m \u001b[31m20.6 MB/s\u001b[0m eta \u001b[36m0:00:00\u001b[0m\n",
            "\u001b[?25h"
          ]
        }
      ]
    },
    {
      "cell_type": "code",
      "source": [
        "import torch\n",
        "import torch.nn.functional as F\n",
        "\n",
        "from torch_geometric.utils import negative_sampling, convert, to_dense_adj\n",
        "from torch_geometric.nn import GCNConv, SAGEConv\n",
        "from torch_geometric.nn.conv import MessagePassing\n",
        "from torchmetrics.functional import auroc\n",
        "import torch_geometric.transforms as T"
      ],
      "metadata": {
        "id": "7ejk4jhl2i75"
      },
      "execution_count": 13,
      "outputs": []
    },
    {
      "cell_type": "code",
      "source": [
        "class SAGE(torch.nn.Module):\n",
        "    def __init__(self, in_channels, hidden_channels, out_channels, num_layers,\n",
        "                 dropout, aggr=\"add\"):\n",
        "        super(SAGE, self).__init__()\n",
        "\n",
        "        self.convs = torch.nn.ModuleList()\n",
        "        self.convs.append(SAGEConv(in_channels, hidden_channels, normalize=True, aggr=aggr))\n",
        "        for _ in range(num_layers - 2):\n",
        "            self.convs.append(SAGEConv(hidden_channels, hidden_channels, normalize=True, aggr=aggr))\n",
        "        self.convs.append(SAGEConv(hidden_channels, out_channels, normalize=True, aggr=aggr))\n",
        "\n",
        "        self.dropout = dropout\n",
        "\n",
        "    def reset_parameters(self):\n",
        "        for conv in self.convs:\n",
        "            conv.reset_parameters()\n",
        "\n",
        "    def forward(self, x, adj_t):\n",
        "        for conv in self.convs[:-1]:\n",
        "            x = conv(x, adj_t)\n",
        "            x = F.relu(x)\n",
        "            x = F.dropout(x, p=self.dropout, training=self.training)\n",
        "        x = self.convs[-1](x, adj_t)\n",
        "        return x\n",
        "\n",
        "\n",
        "class DotProductLinkPredictor(torch.nn.Module):\n",
        "    def __init__(self):\n",
        "        super(DotProductLinkPredictor, self).__init__()\n",
        "\n",
        "    def forward(self, x_i, x_j):\n",
        "        out = (x_i*x_j).sum(-1)\n",
        "        return torch.sigmoid(out)\n",
        "    \n",
        "    def reset_parameters(self):\n",
        "        pass"
      ],
      "metadata": {
        "id": "Wh5BXtt9AjCO"
      },
      "execution_count": 84,
      "outputs": []
    },
    {
      "cell_type": "markdown",
      "source": [
        "In this first setup I considered as hidden dimensions 256, with 5 layers and 0.3 as dropout. I noticed that increasing the number of layers to 7 the model performed worse on the validation set, this overfitting was probably due to the complexity of the model with respect to the given number of nodes of the dataset."
      ],
      "metadata": {
        "id": "5koBEPLmweG-"
      }
    },
    {
      "cell_type": "code",
      "source": [
        "# Initialize our model and LinkPredictor\n",
        "hidden_dimension = 256\n",
        "model = SAGE(emb.size(1), hidden_dimension, hidden_dimension, 5, 0.3).to(device)\n",
        "predictor = DotProductLinkPredictor().to(device)"
      ],
      "metadata": {
        "id": "I9xQ15NcAqmE"
      },
      "execution_count": 91,
      "outputs": []
    },
    {
      "cell_type": "markdown",
      "source": [
        "To evaluate the model, I decided to use different scores:\n",
        "- **mAP@k**, because it's the main metric to check if the suggested songs are retrieved and ordered with a good ranking.\n",
        "- **recall@k**, to check if the similar songs are retrieved, even if not ranked in the right way.\n",
        "- **ROC AUC**, to summarize the ROC curve into a single number, it represents how good is the model at distinguishing between similar and not similar songs.\n",
        "\n",
        "Given that the predictor takes as input two nodes and it computes the probability that an edge exists, to compute the recall and the mAP, I need to create a list of destination nodes to compare for each song in the validation and test sets. After that I retrieved all the similar songs and I put it in the list, I add 20*k nodes that are not similar, otherwise the evaluation of the model would not be fair if there are a large number of similar nodes with respect to the totality. \n"
      ],
      "metadata": {
        "id": "hubVvDDVlUWd"
      }
    },
    {
      "cell_type": "code",
      "source": [
        "#@title #### Test functions\n",
        "#@markdown I implemented several functions in order to compute different metrics on the validation and test dataset.\n",
        "#@markdown You will find the implementation for the mAP@k given a list of similar songs and the predictions, the recall@k\n",
        "#@markdown and the area under the curve.\n",
        "\n",
        "from collections import defaultdict \n",
        "\n",
        "def get_similar_dict(edges, k):\n",
        "    '''\n",
        "        It returns the dictionary where for each node I have the list of connected\n",
        "        (similar) ones.\n",
        "\n",
        "        Parameters:\n",
        "            - edges: torch.tensor\n",
        "                The edges between the nodes.\n",
        "            - k: int\n",
        "                It is used to filter and keep only the songs with more than k similar\n",
        "                songs.\n",
        "        \n",
        "        Returns:\n",
        "            - dict\n",
        "                The dictionary with the songs as key and the list of similar songs\n",
        "                as values.\n",
        "    '''\n",
        "    songs = {}\n",
        "    # Iterate over the columns of the edges tensor (with dim. (2, N))\n",
        "    for i in range(edges.size(1)):\n",
        "        src = edges[0, i].item()\n",
        "        dest = edges[1, i].item()\n",
        "        # Save for each song the similar ones\n",
        "        if src not in songs:\n",
        "            songs[src] = []\n",
        "        if dest not in songs:\n",
        "            songs[dest] = []\n",
        "        # We need to save in both way since the edges are undirected\n",
        "        songs[src].append(dest)\n",
        "        songs[dest].append(src)\n",
        "\n",
        "    # Delete the songs with less than k links from the dictionary\n",
        "    songs = {song: similar for song, similar in songs.items() if len(similar) >= k}\n",
        "    if len(songs) < 200:\n",
        "        print(f\"WARNING: the function kept {len(songs)} songs.\")\n",
        "    return songs\n",
        "\n",
        "\n",
        "def compute_AP_k(predictions, target, k):\n",
        "    '''\n",
        "        It computes the average precision at k for the given lists.\n",
        "\n",
        "        Parameters:\n",
        "            - predictions: list\n",
        "                The list that contains the ids of the songs predicted as similar.\n",
        "            - target: list\n",
        "                The groundtruth list of similar songs.\n",
        "            - k: int\n",
        "                The value to compute the AP at.\n",
        "            \n",
        "        Returns:\n",
        "            - float\n",
        "                It returns the AP@k.\n",
        "    '''\n",
        "    score=count = 0\n",
        "\n",
        "    # Take the minimum value between k and the number of predicted edges\n",
        "    k = min(k, len(predictions))\n",
        "    for i in range(1, k+1):\n",
        "        if predictions[i-1] in target and predictions[i-1] not in predictions[0:(i-1)]:\n",
        "            count += 1\n",
        "            score = score + count/i \n",
        "    \n",
        "    score = score / k\n",
        "    return score\n",
        "\n",
        "\n",
        "def compute_recall_k(predictions, target, k):\n",
        "    '''\n",
        "        It computes the recall at k for the given predictions and target labels.\n",
        "    '''\n",
        "    score=count = 0\n",
        "    # Take the minimum value between k and the number of predicted edges\n",
        "    k = min(k, len(predictions))\n",
        "    # For each predicted song link\n",
        "    for i in range(0, k):\n",
        "        if predictions[i] in target and predictions[i] not in predictions[0:(i)]:\n",
        "            count += 1\n",
        "    \n",
        "    recall = count / k\n",
        "    return recall\n",
        "\n",
        "\n",
        "def compute_metrics_k(songs_dict, destinations, predictions, k, metrics=['map']):\n",
        "    '''\n",
        "        It computes the mean average precision at k on a set of predictions and\n",
        "        target labels.\n",
        "\n",
        "        Parameters:\n",
        "            - songs_dict: dict\n",
        "                The dictionary with the songs as keys and the similar ones as values.\n",
        "            - destinations: torch.tensor\n",
        "                The destination nodes for which I computed the predictions [src, dest]\n",
        "                for each song.\n",
        "            - predictions: torch.tensor\n",
        "                The tensor that contains the probability to have a link between each\n",
        "                pair of nodes.\n",
        "            - k: int\n",
        "                The value to compute the metrics at.\n",
        "            - metrics: list[str]\n",
        "                A list of string to point out which metrics have to be computed.\n",
        "        \n",
        "        Returns:\n",
        "            - dict\n",
        "                It return a dictionary with the computed metrics.\n",
        "    '''\n",
        "    scores = defaultdict(list)\n",
        "    # Iterate over the number of songs \n",
        "    for i in range(predictions.size(0)):\n",
        "        # Take the id of the song\n",
        "        song = list(songs_dict.keys())[i]\n",
        "        # Retrieve the k most probable predicted links (edges)\n",
        "        top_k_idx = torch.topk(predictions[i, :], k)[1]\n",
        "        # Take the ids of the most probable predicted nodes\n",
        "        predicted_k = destinations[i, top_k_idx]\n",
        "        # The nodes similar to 'song'\n",
        "        target_nodes = songs_dict[song][:k]\n",
        "\n",
        "        # Compute the mAP\n",
        "        if 'map' in metrics:\n",
        "            # Compute the AP@k\n",
        "            apk = compute_AP_k(predicted_k.tolist(), target_nodes, k)\n",
        "            scores[f'mAP@{k}'].append(apk)\n",
        "        # Compute the recall\n",
        "        if 'recall' in metrics:\n",
        "            recallk = compute_recall_k(predicted_k.tolist(), target_nodes, k)\n",
        "            scores[f'recall@{k}'].append(recallk)\n",
        "\n",
        "    for metric in scores.keys():\n",
        "        # Compute the average over the song of each metric\n",
        "        scores[metric] = np.mean(scores[metric])\n",
        "\n",
        "    return dict(scores)\n",
        "\n",
        "\n",
        "@torch.no_grad()\n",
        "def test_model(model, predictor, embeddings, adj_t, test_data, k, metrics=['map'],\n",
        "               num_comp=15, edge_model=False, spd=None):\n",
        "    '''\n",
        "        It tests the model and it returns different selected metrics, given the \n",
        "        model and the predictor.\n",
        "\n",
        "        Parameters:\n",
        "            - model:\n",
        "                The GNN model that creates the embeddins for the nodes.\n",
        "            - predictor:\n",
        "                The predictor that returns the probability of a link for each pair\n",
        "                of nodes.\n",
        "            - embeddings: torch.Tensor\n",
        "                The embeddings of the nodes.\n",
        "            - adj_t: torch.Tensor\n",
        "                The sparse matrix that contains the edges.\n",
        "            - test_data: torch_geometric.data.data.Data\n",
        "                The data to use for the test.\n",
        "            - k: int\n",
        "                The k to use for computing the metric.\n",
        "            - metric: list[str]\n",
        "                A list of the metrics to compute, available ones are 'recall', \n",
        "                'map' and 'auc'.\n",
        "            - num_comp: int\n",
        "                The number of times to compute the metrics, and then take the average\n",
        "                between these values.\n",
        "            - edge_model: bool\n",
        "                If the function should also pass the edge features to the model.\n",
        "            - spd: torch.Tensor\n",
        "                The tensor that contains the edge features.\n",
        "\n",
        "        Returns:\n",
        "            - dict\n",
        "                It returns a dictionary that contains for each selected metric\n",
        "                the score and the relative variance (given that it returns\n",
        "                the mean on 20 different iterations).\n",
        "    '''\n",
        "    model.eval()\n",
        "    predictor.eval()\n",
        "\n",
        "    if edge_model:\n",
        "        row, col, edge_attr = adj_t.t().coo()\n",
        "        edge_index = torch.stack([row, col], dim=0)\n",
        "        h = model(embeddings, edge_index, spd)\n",
        "    else:\n",
        "        h = model(embeddings, adj_t)\n",
        "\n",
        "    # Create the dictionary that keep songs with at least k similar ones and the indices of the similars\n",
        "    similar_songs = get_similar_dict(test_data.pos_edge_label_index, k)\n",
        "    \n",
        "    pos_eval_edge = test_data.pos_edge_label_index\n",
        "\n",
        "    num_test_nodes = k*20\n",
        "    scores = defaultdict(list)\n",
        "    \n",
        "    # Compute the metrics 'num_comp' times to have an average of the scores given\n",
        "    # that I have obscillation due to the use of random negative sampling\n",
        "    assert num_comp > 0, \"ERROR: at least one iteration required for the computation of the metrics.\"\n",
        "    for _ in range(num_comp):\n",
        "        predictions = []\n",
        "        destinations = []\n",
        "        auc_labels = []\n",
        "        for song, similars in similar_songs.items():\n",
        "\n",
        "            sim_dest_nodes = torch.tensor(similars[:k]).to(device)\n",
        "            # I have to choose wrong, random nodes, therefore I remove the similars from the choice\n",
        "            rand_nodes = pos_eval_edge[0, torch.isin(pos_eval_edge[0,:], sim_dest_nodes, invert=True)]\n",
        "            # The number of random nodes to take\n",
        "            rand_num = num_test_nodes - len(sim_dest_nodes)\n",
        "            rand_nodes = torch.tensor(np.random.choice(rand_nodes.cpu(), rand_num, \n",
        "                                                       replace=False)).to(device)\n",
        "\n",
        "            dest = torch.cat([sim_dest_nodes, rand_nodes])\n",
        "            src = torch.full((len(dest), ), song).to(device)\n",
        "\n",
        "            pred_song = predictor(h[src], h[dest]).squeeze().cpu()\n",
        "\n",
        "            destinations.append(dest.cpu())\n",
        "            predictions.append(pred_song)\n",
        "            \n",
        "            # Create the labels for compute the AUC\n",
        "            pos_lab = torch.ones_like(sim_dest_nodes)\n",
        "            neg_lab = torch.zeros_like(rand_nodes)\n",
        "            auc_labels.append(torch.cat([pos_lab, neg_lab]))\n",
        "\n",
        "        predictions = torch.stack(predictions).to(device)\n",
        "        destinations = torch.stack(destinations).to(device)\n",
        "        auc_labels = torch.stack(auc_labels).to(device)\n",
        "\n",
        "        metrics_k = compute_metrics_k(similar_songs, destinations, predictions, k, metrics)\n",
        "        # Compute the 'auc'\n",
        "        if 'auc' in metrics:\n",
        "            auc = auroc(predictions, auc_labels, task=\"binary\").item()\n",
        "            scores[f'AUROC@{k}'].append(auc)\n",
        "\n",
        "        for metric in metrics_k.keys():\n",
        "            scores[metric].append(metrics_k[metric])\n",
        "\n",
        "    # Take the mean and the variance over 20 iterations for each metric\n",
        "    for metric in scores.keys():\n",
        "        scores[metric] = {'score': np.mean(scores[metric]),\n",
        "                          'var': np.var(scores[metric])\n",
        "                          }\n",
        "\n",
        "    return scores\n",
        "\n",
        "\n",
        "def print_scores(scores):\n",
        "    '''\n",
        "        It prints the scores given the dictionary returned by the test function.\n",
        "    '''\n",
        "    for metric, values in scores.items():\n",
        "        print(f\"The results for the {metric}:\")\n",
        "        print(f\"- score: {round(values['score'], 6)}  - variance: {round(values['var'], 8)}\\n\")\n",
        "\n",
        "\n",
        "def plot_loss(train_loss, val_loss, y_lim, figsize):\n",
        "\n",
        "    plt.rcParams[\"figure.figsize\"] = figsize\n",
        "\n",
        "    plt.plot(train_loss, label=\"train loss\")\n",
        "    plt.plot(val_loss, label=\"validation loss\")\n",
        "    plt.xlabel(\"Epochs\")\n",
        "    plt.ylabel(\"BCE loss\")\n",
        "    plt.legend(loc='upper right')\n",
        "    plt.ylim(y_lim)\n",
        "    plt.show()"
      ],
      "metadata": {
        "id": "Ae5fnEHdlBMb",
        "cellView": "form"
      },
      "execution_count": 140,
      "outputs": []
    },
    {
      "cell_type": "code",
      "source": [
        "#@title #### Training loop function\n",
        "#@markdown The training loop where I used the positive training edges and I also sample negative edges, then I compute the \n",
        "#@markdown BCE loss on the predictions.\n",
        "def create_train_batch(all_pos_train_edges, perm, edge_index):\n",
        "    '''\n",
        "        It returns a batch for the training, concatenating positive and negative\n",
        "        samples.\n",
        "\n",
        "        Parameters:\n",
        "            - all_pos_train_edges: torch.tensor\n",
        "                The tensor that contains the positive samples for the training.\n",
        "            - perm: int\n",
        "                The number of samples to take.\n",
        "            - edge_index: torch.tensor\n",
        "                All the available edges for the graph.\n",
        "        \n",
        "        Returns:\n",
        "            - Tuple(torch.tensor, torch.tensor)\n",
        "                It returns the edges to train on and the labels to compute the error.\n",
        "    '''\n",
        "    # First, we get our positive edges of dimensions (2, perm)     \n",
        "    pos_edges = all_pos_train_edges[:, perm]\n",
        "\n",
        "    # We then sample the negative edges using PyG functionality\n",
        "    neg_edges = negative_sampling(edge_index, num_nodes=num_nodes,\n",
        "                                  num_neg_samples=perm.shape[0], method='dense')\n",
        "\n",
        "    # Our training batch is just the positive edges concatanted with the negative ones\n",
        "    train_edge = torch.cat([pos_edges, neg_edges], dim=1)  \n",
        "\n",
        "    # Our labels are all 1 for the positive edges and 0 for the negative ones                          \n",
        "    pos_label = torch.ones(pos_edges.shape[1], )\n",
        "    neg_label = torch.zeros(neg_edges.shape[1], )\n",
        "    train_label = torch.cat([pos_label, neg_label], dim=0).to(device)\n",
        "\n",
        "    return train_edge, train_label\n",
        "  \n",
        "\n",
        "@torch.no_grad()\n",
        "def validation(model, predictor, node_emb, adj_t, val_data, loss_fn, edge_model=False,\n",
        "               spd=None):\n",
        "    '''\n",
        "        This function evaluate the model on the validation dataset.\n",
        "\n",
        "        Parameters:\n",
        "            - model:\n",
        "                The model to evaluate.\n",
        "            - predictor:\n",
        "                The predictor model to use for the edge predictions.\n",
        "            - node_emb: torch.Tensor\n",
        "                The node features tensor.\n",
        "            - adj_t: torch.Tensor\n",
        "                The sparse matrix that represents the edges between nodes.\n",
        "            - val_data: torch.data.data.Data\n",
        "                The validation edges.\n",
        "            - loss_fn:\n",
        "                The function to use for evaluating the model.\n",
        "            - edge_model: bool\n",
        "                It is true if the function has to pass the edge features to the model.\n",
        "            - spd: torch.Tensor\n",
        "                The tensor that contains the edge features.\n",
        "    '''\n",
        "    model.eval()\n",
        "    predictor.eval()\n",
        "\n",
        "    if edge_model:\n",
        "        row, col, edge_attr = adj_t.t().coo()\n",
        "        edge_index = torch.stack([row, col], dim=0)\n",
        "        h = model(node_emb, edge_index, spd)\n",
        "    else:\n",
        "        h = model(node_emb, adj_t)\n",
        "\n",
        "    all_pos_val_edges = val_data.pos_edge_label_index\n",
        "    all_neg_val_edges = val_data.neg_edge_label_index\n",
        "\n",
        "    val_loss = 0\n",
        "    # Iterate over all the positive edges\n",
        "    for perm in DataLoader(range(all_pos_val_edges.shape[1]), 32*1024, shuffle=True):\n",
        "\n",
        "        pos_edges = all_pos_val_edges[:, perm]\n",
        "\n",
        "        neg_idx = torch.randperm(all_neg_val_edges.size(1))[:len(perm)]\n",
        "        neg_edges = all_neg_val_edges[:, neg_idx]\n",
        "\n",
        "        # Our validation batch is just the positive edges concatanted with the negative ones\n",
        "        val_edge = torch.cat([pos_edges, neg_edges], dim=1)  \n",
        "\n",
        "        # Our labels are all 1 for the positive edges and 0 for the negative ones                          \n",
        "        pos_label = torch.ones(pos_edges.shape[1], )\n",
        "        neg_label = torch.zeros(neg_edges.shape[1], )\n",
        "        val_label = torch.cat([pos_label, neg_label], dim=0).to(device)\n",
        "        \n",
        "        # Get predictions for our batch and compute the loss\n",
        "        preds = predictor(h[val_edge[0]], h[val_edge[1]])\n",
        "        loss = loss_fn(preds, val_label)\n",
        "\n",
        "        val_loss += loss.item()\n",
        "\n",
        "    return val_loss\n",
        "\n",
        "\n",
        "def train(model, predictor, node_emb, adj_t, train_data, val_data, loss_fn, optimizer,\n",
        "          scheduler, batch_size, num_epochs, verbose=False, edge_model=False, spd=None):\n",
        "    '''\n",
        "        It executes the training loop considering all the passed parameters.\n",
        "\n",
        "        Parameters:\n",
        "            - model\n",
        "                It is the GNN model to create the embeddings.\n",
        "            - predictor\n",
        "                It is the link predictor model.\n",
        "            - node_emb: torch.tensor\n",
        "                It the tensor that contains the node embeddings.\n",
        "            - adj_t: torch tensor\n",
        "                It's the sparse matrix of edges.\n",
        "            - train_data: torch_geometric.data.data.Data\n",
        "                It is the set of edges and nodes to use for the training.\n",
        "            - loss_fn: torch.nn.BCELoss\n",
        "                It's the considered loss, in this case I used the BCELoss.\n",
        "            - optimizer:\n",
        "                The optimizer to use for the training.\n",
        "            - scheduler:\n",
        "                To change the learning rate when there is no significant update\n",
        "                on the loss for several epochs.\n",
        "            - batch_size: int\n",
        "                The batch size to consider for the training.\n",
        "            - num_epochs: int\n",
        "                The number of epochs to consider for the training.\n",
        "            - verbose: bool\n",
        "                If verbose then the function will print every 5 epochs the statistics.\n",
        "            - edge_model: bool\n",
        "                If the function has to pass the edge features to the model.\n",
        "            - spd: torch.Tensor\n",
        "                The tensor that contains the edge features\n",
        "        \n",
        "        Returns:\n",
        "            - tuple(list, list)\n",
        "                It returns 2 lists with the training and validation losses.\n",
        "    '''\n",
        "    vprint = print if verbose else lambda *args, **kwargs: None\n",
        "    # adj_t isn't used everywhere in PyG yet, so I switch back to edge_index for negative sampling\n",
        "    row, col, edge_attr = adj_t.t().coo()\n",
        "    edge_index = torch.stack([row, col], dim=0)\n",
        "\n",
        "    model.train()\n",
        "    predictor.train()\n",
        "\n",
        "    model.reset_parameters()\n",
        "    predictor.reset_parameters()\n",
        "\n",
        "    # Take the positive edges for the training\n",
        "    all_pos_train_edges = train_data.pos_edge_label_index\n",
        "    losses = []\n",
        "    val_losses = []\n",
        "    vprint(\"Train the model ...\\n\")\n",
        "    for epoch in range(num_epochs):\n",
        "        epoch_total_loss = 0\n",
        "        # Iterate over all the positive edges\n",
        "        for perm in DataLoader(range(all_pos_train_edges.shape[1]), batch_size, shuffle=True):\n",
        "            optimizer.zero_grad()\n",
        "\n",
        "            train_edge, train_label = create_train_batch(all_pos_train_edges, perm, edge_index)\n",
        "            \n",
        "            # Use the GNN to generate node embeddings\n",
        "            if edge_model:\n",
        "                h = model(node_emb, edge_index, spd)\n",
        "            else:\n",
        "                h = model(node_emb, adj_t)\n",
        "\n",
        "            # Get predictions for our batch and compute the loss\n",
        "            preds = predictor(h[train_edge[0]], h[train_edge[1]])\n",
        "            loss = loss_fn(preds, train_label)\n",
        "\n",
        "            epoch_total_loss += loss.item()\n",
        "\n",
        "            # Update our parameters\n",
        "            loss.backward()\n",
        "            # To avoid exploding gradient problem\n",
        "            torch.nn.utils.clip_grad_norm_(model.parameters(), 1.0)\n",
        "            torch.nn.utils.clip_grad_norm_(predictor.parameters(), 1.0)\n",
        "            optimizer.step()\n",
        "\n",
        "        val_loss = validation(model, predictor, node_emb, adj_t, val_data, loss_fn,\n",
        "                              edge_model=edge_model, spd=spd)\n",
        "        \n",
        "        scheduler.step(val_loss)\n",
        "        lr =  optimizer.param_groups[0]['lr']\n",
        "\n",
        "        if (epoch+1) % 5 == 0:\n",
        "            vprint(f'Epoch: {epoch+1} '\n",
        "                    f' Lr: {lr:.7f} '\n",
        "                    f' Loss: Train (BCE) = [{epoch_total_loss:.6f}] - Validation = [{val_loss:.6f}] ')            \n",
        "\n",
        "        \n",
        "        losses.append(epoch_total_loss)\n",
        "        val_losses.append(val_loss)\n",
        "\n",
        "    return losses, val_losses"
      ],
      "metadata": {
        "id": "w62Rja6n3ZSm",
        "cellView": "form"
      },
      "execution_count": 113,
      "outputs": []
    },
    {
      "cell_type": "code",
      "source": [
        "# Initialize the optimizer and train the model\n",
        "optimizer = torch.optim.Adam(\n",
        "            list(model.parameters())  +\n",
        "            list(predictor.parameters()), lr=0.001)\n",
        "\n",
        "scheduler = torch.optim.lr_scheduler.ReduceLROnPlateau(optimizer, 'min', factor=0.2, patience=10,\n",
        "                                                        threshold=0.0001)\n",
        "\n",
        "loss, val_loss = train(model, predictor, emb, adj_t, train_data, val_data, torch.nn.BCELoss(), \n",
        "                    optimizer, scheduler, 64 * 1024, 100, verbose=True)"
      ],
      "metadata": {
        "id": "sdRV-uN2MwCk"
      },
      "execution_count": null,
      "outputs": []
    },
    {
      "cell_type": "code",
      "source": [
        "test_metrics = test_model(model, predictor, emb, adj_t, val_data, 20,\n",
        "                          metrics=['auc', 'recall', 'map'], num_comp=5)\n",
        "\n",
        "print_scores(test_metrics)"
      ],
      "metadata": {
        "colab": {
          "base_uri": "https://localhost:8080/"
        },
        "id": "O522ezOQplkY",
        "outputId": "0fd83294-ff3a-4d53-fc38-9321a2998397"
      },
      "execution_count": null,
      "outputs": [
        {
          "output_type": "stream",
          "name": "stdout",
          "text": [
            "The results for the AUROC@20:\n",
            "- score: 0.948806  - variance: 1.5e-07\n",
            "\n",
            "The results for the mAP@20:\n",
            "- score: 0.237373  - variance: 8.23e-06\n",
            "\n",
            "The results for the recall@20:\n",
            "- score: 0.424476  - variance: 1.696e-05\n",
            "\n"
          ]
        }
      ]
    },
    {
      "cell_type": "markdown",
      "source": [
        "Training with these parameters I obtained quite good results, but in order to choose those values I tried different combinations."
      ],
      "metadata": {
        "id": "-bVdp4ERvR_Z"
      }
    },
    {
      "cell_type": "code",
      "source": [
        "#@title #### Function to train multiple models with different parameters\n",
        "def check_train_parameters(h_dim, n_layer, lr, emb, adj_t, train_data, val_data, \n",
        "                           test_data, epochs=50):\n",
        "    ''' \n",
        "        It takes as input the list of parameters to check for each model.\n",
        "        E.g. \n",
        "            h_dim = [256, 256, 512, 512, 1024]\n",
        "            n_layer = [3, 5, 5, 7, 5]\n",
        "            lr = [0.001, 0.001, 0.001, 0.001, 0.01]\n",
        "        The function will first test the model with 256 as hidden dimension, 3 SAGE layers\n",
        "        and lr = 0.001, then it will pass to the second element of each array etc.\n",
        "    '''\n",
        "    assert len(h_dim) == len(n_layer)\n",
        "    assert len(n_layer) == len(lr)\n",
        "    results = {}\n",
        "    for mod in tqdm(range(len(h_dim)), desc=\"Training multiple models\"):\n",
        "        device = torch.device('cuda' if torch.cuda.is_available() else 'cpu')\n",
        "\n",
        "        # Initialize our model and LinkPredictor\n",
        "        model = SAGE(emb.size(1), h_dim[mod], h_dim[mod], n_layer[mod], 0.3).to(device)\n",
        "        predictor = DotProductLinkPredictor().to(device)\n",
        "\n",
        "        # Initialize the optimizer and train the model\n",
        "        optimizer = torch.optim.Adam(\n",
        "                    list(model.parameters())  +\n",
        "                    list(predictor.parameters()), lr=lr[mod])\n",
        "\n",
        "        scheduler = torch.optim.lr_scheduler.ReduceLROnPlateau(optimizer, 'min', factor=0.2, patience=10,\n",
        "                                                                threshold=0.0001)\n",
        "\n",
        "        loss, val_loss = train(model, predictor, emb, adj_t, train_data, val_data, torch.nn.BCELoss(), \n",
        "                            optimizer, scheduler, 64 * 1024, epochs)\n",
        "        \n",
        "        metrics = test_metrics = test_model(model, predictor, emb, adj_t, test_data, 20, metrics=['auc', 'recall', 'map'], num_comp=5)\n",
        "        results[mod] = {'parameters':{'lr':lr[mod], 'hidden_dim':h_dim[mod], 'n_layers':n_layer[mod]},\n",
        "                        'train_loss': loss, 'val_loss': val_loss, 'metrics': metrics}\n",
        "        del model\n",
        "        del predictor\n",
        "    return results"
      ],
      "metadata": {
        "id": "iAlmBor9vc0q",
        "cellView": "form"
      },
      "execution_count": null,
      "outputs": []
    },
    {
      "cell_type": "code",
      "source": [
        "h_dim = [256, 256, 512, 512, 1024]\n",
        "n_layer = [5, 7, 5, 7, 5]\n",
        "lr = [0.001, 0.001, 0.001, 0.001, 0.01]\n",
        "\n",
        "res_mult_train = check_train_parameters(h_dim, n_layer, lr, emb, adj_t, train_data, val_data, val_data)"
      ],
      "metadata": {
        "colab": {
          "base_uri": "https://localhost:8080/"
        },
        "id": "jimUbBC7x9Ed",
        "outputId": "857279ef-4ca4-4712-9db1-db94aaa14a96"
      },
      "execution_count": null,
      "outputs": [
        {
          "output_type": "stream",
          "name": "stderr",
          "text": [
            "Training multiple models: 100%|██████████| 5/5 [01:58<00:00, 23.67s/it]\n"
          ]
        }
      ]
    },
    {
      "cell_type": "markdown",
      "source": [
        "I plot the loss and the graph of the metrics computed on the training and validation datasets during the training."
      ],
      "metadata": {
        "id": "WK60SHTI3va0"
      }
    },
    {
      "cell_type": "code",
      "source": [
        "import matplotlib.pyplot as plt\n",
        "\n",
        "def plot_losses(mod_results):\n",
        "    fig, axs = plt.subplots(1, 2, figsize=(12, 4))\n",
        "    for mod, values in mod_results.items():\n",
        "        axs[0].plot(values['train_loss'], label=f\"h_d:{values['parameters']['hidden_dim']}-n_l:{values['parameters']['n_layers']}\")\n",
        "\n",
        "    axs[0].set_title('Training loss')\n",
        "    axs[0].set_xlabel(\"Epochs\")\n",
        "    axs[0].set_ylabel(\"BCE loss\")\n",
        "    axs[0].legend(loc='upper right')\n",
        "    axs[0].set_ylim(1, 1.3)\n",
        "\n",
        "    for mod, values in mod_results.items():\n",
        "        axs[1].plot(values['val_loss'], label=f\"h_d:{values['parameters']['hidden_dim']}-n_l:{values['parameters']['n_layers']}\")\n",
        "\n",
        "    axs[1].set_title('Validation loss')\n",
        "    axs[1].set_xlabel(\"Epochs\")\n",
        "    axs[1].set_ylabel(\"BCE loss\")\n",
        "    axs[1].legend(loc='upper right')\n",
        "    axs[1].set_ylim(1, 1.3)\n",
        "    plt.show()\n",
        "\n",
        "plot_losses(res_mult_train)"
      ],
      "metadata": {
        "colab": {
          "base_uri": "https://localhost:8080/",
          "height": 295
        },
        "id": "w9AMNMr8ztbb",
        "outputId": "1a44a395-b264-4cfe-9d5d-872b3256bb86"
      },
      "execution_count": null,
      "outputs": [
        {
          "output_type": "display_data",
          "data": {
            "text/plain": [
              "<Figure size 864x288 with 2 Axes>"
            ],
            "image/png": "[encoded data removed]"
          },
          "metadata": {
            "needs_background": "light"
          }
        }
      ]
    },
    {
      "cell_type": "code",
      "source": [
        "df_mult_train = pd.DataFrame(columns=['AUROC@20', 'mAP@20', 'recall@20'])\n",
        "aucs_mt, map_mt, recall_mt = [], [], []\n",
        "\n",
        "for key in res_mult_train.keys():\n",
        "    aucs_mt.append(res_mult_train[key]['metrics']['AUROC@20']['score'])\n",
        "    map_mt.append(res_mult_train[key]['metrics']['mAP@20']['score'])\n",
        "    recall_mt.append(res_mult_train[key]['metrics']['recall@20']['score'])\n",
        "\n",
        "df_mult_train['AUROC@20'] = aucs_mt\n",
        "df_mult_train['mAP@20'] = map_mt\n",
        "df_mult_train['recall@20'] = recall_mt\n",
        "df_mult_train.index = ['h_d: 256 - n_l: 3', 'h_d: 256 - n_l: 5', 'h_d: 512 - n_l: 5', 'h_d: 512 - n_l: 7', 'h_d: 1024 - n_l: 5']\n",
        "df_mult_train"
      ],
      "metadata": {
        "colab": {
          "base_uri": "https://localhost:8080/",
          "height": 206
        },
        "id": "Oyjhm9VG5Lnb",
        "outputId": "e485ab07-d4b4-40e0-95c3-f8f0c83f484c"
      },
      "execution_count": null,
      "outputs": [
        {
          "output_type": "execute_result",
          "data": {
            "text/plain": [
              "                    AUROC@20    mAP@20  recall@20\n",
              "h_d: 256 - n_l: 3   0.937753  0.227737   0.406159\n",
              "h_d: 256 - n_l: 5   0.936721  0.214992   0.390460\n",
              "h_d: 512 - n_l: 5   0.936412  0.219789   0.395016\n",
              "h_d: 512 - n_l: 7   0.917931  0.152368   0.315159\n",
              "h_d: 1024 - n_l: 5  0.735947  0.037465   0.073889"
            ],
            "text/html": [
              "\n",
              "  <div id=\"df-09031de9-cf46-44a2-a682-077bb67012a9\">\n",
              "    <div class=\"colab-df-container\">\n",
              "      <div>\n",
              "<style scoped>\n",
              "    .dataframe tbody tr th:only-of-type {\n",
              "        vertical-align: middle;\n",
              "    }\n",
              "\n",
              "    .dataframe tbody tr th {\n",
              "        vertical-align: top;\n",
              "    }\n",
              "\n",
              "    .dataframe thead th {\n",
              "        text-align: right;\n",
              "    }\n",
              "</style>\n",
              "<table border=\"1\" class=\"dataframe\">\n",
              "  <thead>\n",
              "    <tr style=\"text-align: right;\">\n",
              "      <th></th>\n",
              "      <th>AUROC@20</th>\n",
              "      <th>mAP@20</th>\n",
              "      <th>recall@20</th>\n",
              "    </tr>\n",
              "  </thead>\n",
              "  <tbody>\n",
              "    <tr>\n",
              "      <th>h_d: 256 - n_l: 3</th>\n",
              "      <td>0.937753</td>\n",
              "      <td>0.227737</td>\n",
              "      <td>0.406159</td>\n",
              "    </tr>\n",
              "    <tr>\n",
              "      <th>h_d: 256 - n_l: 5</th>\n",
              "      <td>0.936721</td>\n",
              "      <td>0.214992</td>\n",
              "      <td>0.390460</td>\n",
              "    </tr>\n",
              "    <tr>\n",
              "      <th>h_d: 512 - n_l: 5</th>\n",
              "      <td>0.936412</td>\n",
              "      <td>0.219789</td>\n",
              "      <td>0.395016</td>\n",
              "    </tr>\n",
              "    <tr>\n",
              "      <th>h_d: 512 - n_l: 7</th>\n",
              "      <td>0.917931</td>\n",
              "      <td>0.152368</td>\n",
              "      <td>0.315159</td>\n",
              "    </tr>\n",
              "    <tr>\n",
              "      <th>h_d: 1024 - n_l: 5</th>\n",
              "      <td>0.735947</td>\n",
              "      <td>0.037465</td>\n",
              "      <td>0.073889</td>\n",
              "    </tr>\n",
              "  </tbody>\n",
              "</table>\n",
              "</div>\n",
              "      <button class=\"colab-df-convert\" onclick=\"convertToInteractive('df-09031de9-cf46-44a2-a682-077bb67012a9')\"\n",
              "              title=\"Convert this dataframe to an interactive table.\"\n",
              "              style=\"display:none;\">\n",
              "        \n",
              "  <svg xmlns=\"http://www.w3.org/2000/svg\" height=\"24px\"viewBox=\"0 0 24 24\"\n",
              "       width=\"24px\">\n",
              "    <path d=\"M0 0h24v24H0V0z\" fill=\"none\"/>\n",
              "    <path d=\"M18.56 5.44l.94 2.06.94-2.06 2.06-.94-2.06-.94-.94-2.06-.94 2.06-2.06.94zm-11 1L8.5 8.5l.94-2.06 2.06-.94-2.06-.94L8.5 2.5l-.94 2.06-2.06.94zm10 10l.94 2.06.94-2.06 2.06-.94-2.06-.94-.94-2.06-.94 2.06-2.06.94z\"/><path d=\"M17.41 7.96l-1.37-1.37c-.4-.4-.92-.59-1.43-.59-.52 0-1.04.2-1.43.59L10.3 9.45l-7.72 7.72c-.78.78-.78 2.05 0 2.83L4 21.41c.39.39.9.59 1.41.59.51 0 1.02-.2 1.41-.59l7.78-7.78 2.81-2.81c.8-.78.8-2.07 0-2.86zM5.41 20L4 18.59l7.72-7.72 1.47 1.35L5.41 20z\"/>\n",
              "  </svg>\n",
              "      </button>\n",
              "      \n",
              "  <style>\n",
              "    .colab-df-container {\n",
              "      display:flex;\n",
              "      flex-wrap:wrap;\n",
              "      gap: 12px;\n",
              "    }\n",
              "\n",
              "    .colab-df-convert {\n",
              "      background-color: #E8F0FE;\n",
              "      border: none;\n",
              "      border-radius: 50%;\n",
              "      cursor: pointer;\n",
              "      display: none;\n",
              "      fill: #1967D2;\n",
              "      height: 32px;\n",
              "      padding: 0 0 0 0;\n",
              "      width: 32px;\n",
              "    }\n",
              "\n",
              "    .colab-df-convert:hover {\n",
              "      background-color: #E2EBFA;\n",
              "      box-shadow: 0px 1px 2px rgba(60, 64, 67, 0.3), 0px 1px 3px 1px rgba(60, 64, 67, 0.15);\n",
              "      fill: #174EA6;\n",
              "    }\n",
              "\n",
              "    [theme=dark] .colab-df-convert {\n",
              "      background-color: #3B4455;\n",
              "      fill: #D2E3FC;\n",
              "    }\n",
              "\n",
              "    [theme=dark] .colab-df-convert:hover {\n",
              "      background-color: #434B5C;\n",
              "      box-shadow: 0px 1px 3px 1px rgba(0, 0, 0, 0.15);\n",
              "      filter: drop-shadow(0px 1px 2px rgba(0, 0, 0, 0.3));\n",
              "      fill: #FFFFFF;\n",
              "    }\n",
              "  </style>\n",
              "\n",
              "      <script>\n",
              "        const buttonEl =\n",
              "          document.querySelector('#df-09031de9-cf46-44a2-a682-077bb67012a9 button.colab-df-convert');\n",
              "        buttonEl.style.display =\n",
              "          google.colab.kernel.accessAllowed ? 'block' : 'none';\n",
              "\n",
              "        async function convertToInteractive(key) {\n",
              "          const element = document.querySelector('#df-09031de9-cf46-44a2-a682-077bb67012a9');\n",
              "          const dataTable =\n",
              "            await google.colab.kernel.invokeFunction('convertToInteractive',\n",
              "                                                     [key], {});\n",
              "          if (!dataTable) return;\n",
              "\n",
              "          const docLinkHtml = 'Like what you see? Visit the ' +\n",
              "            '<a target=\"_blank\" href=https://colab.research.google.com/notebooks/data_table.ipynb>data table notebook</a>'\n",
              "            + ' to learn more about interactive tables.';\n",
              "          element.innerHTML = '';\n",
              "          dataTable['output_type'] = 'display_data';\n",
              "          await google.colab.output.renderOutput(dataTable, element);\n",
              "          const docLink = document.createElement('div');\n",
              "          docLink.innerHTML = docLinkHtml;\n",
              "          element.appendChild(docLink);\n",
              "        }\n",
              "      </script>\n",
              "    </div>\n",
              "  </div>\n",
              "  "
            ]
          },
          "metadata": {},
          "execution_count": 271
        }
      ]
    },
    {
      "cell_type": "markdown",
      "source": [
        "As you can notice from the table, the best results are obtained with the hidden dimensions equal to 256 and a small number of layers, 3 or 5. \n",
        "\n",
        "The results are better than the ones obtained in the analysis with R, where I compared the embeddings of the songs with the other embeddings in order to get the most similar ones, but I want to improve the model changing some parts."
      ],
      "metadata": {
        "id": "oU52aawG37QM"
      }
    },
    {
      "cell_type": "markdown",
      "source": [
        "### GraphSAGE with post processing"
      ],
      "metadata": {
        "id": "pi_tXEoXKFAx"
      }
    },
    {
      "cell_type": "markdown",
      "source": [
        "Adding more layers onto a GNN can get detrimental because it may ends up with embeddings that are very similar each other. I decided to try including post-processing layers in the GNN, which don't pass messages, but simply apply a neural network to the embeddings. This can be convenient when the embeddings need to be used in a downstream task, such as the link prediction I wish to perform."
      ],
      "metadata": {
        "id": "2QToeK_IKiFj"
      }
    },
    {
      "cell_type": "code",
      "source": [
        "class PostProcessSAGE(torch.nn.Module):\n",
        "    def __init__(self, in_channels, hidden_dimension, out_channels, num_conv_layers,\n",
        "                 num_linear_layers, dropout):\n",
        "        super(PostProcessSAGE, self).__init__()\n",
        "\n",
        "        self.convs = torch.nn.ModuleList()\n",
        "        self.lins = torch.nn.ModuleList()\n",
        "        \n",
        "        self.convs.append(SAGEConv(in_channels, hidden_dimension, normalize=True, aggr=\"add\"))\n",
        "        for _ in range(num_conv_layers - 1):\n",
        "            self.convs.append(SAGEConv(hidden_dimension, hidden_dimension, normalize=True, aggr=\"add\"))\n",
        "        \n",
        "        for _ in range(num_linear_layers - 1):\n",
        "            self.lins.append(torch.nn.Linear(hidden_dimension, hidden_dimension))\n",
        "        self.lins.append(torch.nn.Linear(hidden_dimension, out_channels))\n",
        "\n",
        "        self.dropout = dropout\n",
        "\n",
        "    def reset_parameters(self):\n",
        "        for conv in self.convs:\n",
        "            conv.reset_parameters()\n",
        "\n",
        "    def forward(self, x, adj_t):\n",
        "        for conv in self.convs[:-1]:\n",
        "            x = conv(x, adj_t)\n",
        "            x = F.relu(x)\n",
        "            x = F.dropout(x, p=self.dropout, training=self.training)\n",
        "        x = self.convs[-1](x, adj_t)\n",
        "\n",
        "        # Post-process\n",
        "        for lin in self.lins[:-1]:\n",
        "            x = lin(x)\n",
        "            x = F.relu(x)\n",
        "        x = self.lins[-1](x)\n",
        "        return x"
      ],
      "metadata": {
        "id": "awQPytdDKhk8"
      },
      "execution_count": 163,
      "outputs": []
    },
    {
      "cell_type": "code",
      "source": [
        "hidden_dimension = 256\n",
        "linear_layers = 4\n",
        "\n",
        "model = PostProcessSAGE(emb.size(1), hidden_dimension, hidden_dimension, 5, linear_layers, 0.3).to(device)\n",
        "predictor = DotProductLinkPredictor().to(device)"
      ],
      "metadata": {
        "id": "UrCTh7LSLiPj"
      },
      "execution_count": 167,
      "outputs": []
    },
    {
      "cell_type": "code",
      "source": [
        "# Initialize the optimizer and train the model\n",
        "optimizer = torch.optim.Adam(\n",
        "            list(model.parameters())  +\n",
        "            list(predictor.parameters()), lr=0.001)\n",
        "\n",
        "scheduler = torch.optim.lr_scheduler.ReduceLROnPlateau(optimizer, 'min', factor=0.2, patience=10,\n",
        "                                                        threshold=0.0001, cooldown=2)\n",
        "\n",
        "loss, val_loss = train(model, predictor, emb, adj_t, train_data, val_data, torch.nn.BCELoss(),\n",
        "                          optimizer, scheduler, 64 * 1024, 100, verbose=True)"
      ],
      "metadata": {
        "id": "lZmAtilXLzno",
        "colab": {
          "base_uri": "https://localhost:8080/"
        },
        "outputId": "3bfa2e91-8315-45a9-c960-c5ccf07ecbcf"
      },
      "execution_count": 168,
      "outputs": [
        {
          "output_type": "stream",
          "name": "stdout",
          "text": [
            "Train the model ...\n",
            "\n",
            "Epoch: 5  Lr: 0.0010000  Loss: Train (BCE) = [1.386621] - Validation = [1.385348] \n",
            "Epoch: 10  Lr: 0.0010000  Loss: Train (BCE) = [1.377239] - Validation = [1.360666] \n",
            "Epoch: 15  Lr: 0.0010000  Loss: Train (BCE) = [1.166241] - Validation = [1.127687] \n",
            "Epoch: 20  Lr: 0.0010000  Loss: Train (BCE) = [1.146973] - Validation = [1.119173] \n",
            "Epoch: 25  Lr: 0.0010000  Loss: Train (BCE) = [1.134748] - Validation = [1.114432] \n",
            "Epoch: 30  Lr: 0.0010000  Loss: Train (BCE) = [1.133148] - Validation = [1.123280] \n",
            "Epoch: 35  Lr: 0.0010000  Loss: Train (BCE) = [1.121937] - Validation = [1.118484] \n",
            "Epoch: 40  Lr: 0.0010000  Loss: Train (BCE) = [1.120676] - Validation = [1.089701] \n",
            "Epoch: 45  Lr: 0.0010000  Loss: Train (BCE) = [1.113138] - Validation = [1.097352] \n",
            "Epoch: 50  Lr: 0.0010000  Loss: Train (BCE) = [1.105695] - Validation = [1.075407] \n",
            "Epoch: 55  Lr: 0.0010000  Loss: Train (BCE) = [1.094940] - Validation = [1.078602] \n",
            "Epoch: 60  Lr: 0.0010000  Loss: Train (BCE) = [1.071604] - Validation = [1.032404] \n",
            "Epoch: 65  Lr: 0.0010000  Loss: Train (BCE) = [1.034474] - Validation = [1.005889] \n",
            "Epoch: 70  Lr: 0.0010000  Loss: Train (BCE) = [1.018471] - Validation = [0.993632] \n",
            "Epoch: 75  Lr: 0.0010000  Loss: Train (BCE) = [1.011521] - Validation = [0.977750] \n",
            "Epoch: 80  Lr: 0.0010000  Loss: Train (BCE) = [0.979263] - Validation = [0.956628] \n",
            "Epoch: 85  Lr: 0.0010000  Loss: Train (BCE) = [0.971488] - Validation = [0.955198] \n",
            "Epoch: 90  Lr: 0.0010000  Loss: Train (BCE) = [0.963780] - Validation = [0.943534] \n",
            "Epoch: 95  Lr: 0.0010000  Loss: Train (BCE) = [0.960763] - Validation = [0.912597] \n",
            "Epoch: 100  Lr: 0.0010000  Loss: Train (BCE) = [0.952134] - Validation = [0.917732] \n"
          ]
        }
      ]
    },
    {
      "cell_type": "code",
      "source": [
        "plot_loss(loss, val_loss, (0.91, 1.4), (9, 6))"
      ],
      "metadata": {
        "colab": {
          "base_uri": "https://localhost:8080/",
          "height": 392
        },
        "id": "VE_gnnBCj4UP",
        "outputId": "383efb55-e638-43de-b096-fc06fff749e6"
      },
      "execution_count": 170,
      "outputs": [
        {
          "output_type": "display_data",
          "data": {
            "text/plain": [
              "<Figure size 648x432 with 1 Axes>"
            ],
            "image/png": "[encoded data removed]"
          },
          "metadata": {
            "needs_background": "light"
          }
        }
      ]
    },
    {
      "cell_type": "code",
      "source": [
        "test_metrics = test_model(model, predictor, emb, adj_t, val_data, 20,\n",
        "                          metrics=['auc', 'recall', 'map'], num_comp=5)\n",
        "\n",
        "print_scores(test_metrics)"
      ],
      "metadata": {
        "colab": {
          "base_uri": "https://localhost:8080/"
        },
        "id": "UaUMw6_LLcra",
        "outputId": "0d3747ea-9661-4dab-e9dc-acb24168189d"
      },
      "execution_count": 169,
      "outputs": [
        {
          "output_type": "stream",
          "name": "stdout",
          "text": [
            "The results for the AUROC@20:\n",
            "- score: 0.899257  - variance: 4e-08\n",
            "\n",
            "The results for the mAP@20:\n",
            "- score: 0.074728  - variance: 1.34e-06\n",
            "\n",
            "The results for the recall@20:\n",
            "- score: 0.20311  - variance: 3.4e-07\n",
            "\n"
          ]
        }
      ]
    },
    {
      "cell_type": "markdown",
      "source": [
        "This model performs worse than the basic one, probably because we introduce other layers in the postprocessing step that don't help in recognizing the edges that should exist. I am working on a small set of nodes, therefore simple networks may be better."
      ],
      "metadata": {
        "id": "kESpIAb6poul"
      }
    },
    {
      "cell_type": "markdown",
      "source": [
        "### GraphSAGE with neural link predictor"
      ],
      "metadata": {
        "id": "xHGl7SWc1rTQ"
      }
    },
    {
      "cell_type": "markdown",
      "source": [
        "Changing the GNN model I was not able to improve my results, therefore I decided to implement a more clever link predictor, making use of a simple neural network. In this case I am trying to improve the quality of the predictions and not the quality of the created embeddings.\n",
        "\n",
        "Although this seems similar to the post-processing I did previously, the limitation of the prior method was that the model had to generate individual node embeddings that could directly be used for making link predictions for all possible pairs of nodes. By instead having a LinkPredictor, as an independent neural network that can operate directly on pairs of nodes and take into account their unique interactions, this task becomes easier and the model becomes much more expressive (Inspired by [this code](https://github.com/snap-stanford/ogb/blob/master/examples/linkproppred/ddi/gnn.py))."
      ],
      "metadata": {
        "id": "l5LCC21S10S7"
      }
    },
    {
      "cell_type": "code",
      "source": [
        "class NeuralLinkPredictor(torch.nn.Module):\n",
        "    def __init__(self, in_channels, hidden_channels, out_channels, num_layers,\n",
        "                 dropout):\n",
        "        super(NeuralLinkPredictor, self).__init__()\n",
        "\n",
        "        self.lins = torch.nn.ModuleList()\n",
        "        self.lins.append(torch.nn.Linear(in_channels, hidden_channels))\n",
        "        for _ in range(num_layers - 2):\n",
        "            self.lins.append(torch.nn.Linear(hidden_channels, hidden_channels))\n",
        "        self.lins.append(torch.nn.Linear(hidden_channels, out_channels))\n",
        "\n",
        "        self.dropout = dropout\n",
        "\n",
        "    def reset_parameters(self):\n",
        "        for lin in self.lins:\n",
        "            lin.reset_parameters()\n",
        "\n",
        "    def forward(self, x_i, x_j):\n",
        "        x = x_i * x_j\n",
        "        for lin in self.lins[:-1]:\n",
        "            x = lin(x)\n",
        "            x = F.relu(x)\n",
        "            x = F.dropout(x, p=self.dropout, training=self.training)\n",
        "        x = self.lins[-1](x)\n",
        "        return torch.sigmoid(x).squeeze()"
      ],
      "metadata": {
        "id": "n_-OuOdv4dpj"
      },
      "execution_count": 171,
      "outputs": []
    },
    {
      "cell_type": "markdown",
      "source": [
        "I will use this predictor with the base SAGE model"
      ],
      "metadata": {
        "id": "RP1ze7Je4kuL"
      }
    },
    {
      "cell_type": "code",
      "source": [
        "hidden_dimension = 256\n",
        "\n",
        "model = SAGE(emb.size(1), hidden_dimension, hidden_dimension, 4, 0.3).to(device)\n",
        "predictor = NeuralLinkPredictor(hidden_dimension, hidden_dimension, 1, 7, 0.3).to(device)"
      ],
      "metadata": {
        "id": "zLpId11p4pKr"
      },
      "execution_count": 184,
      "outputs": []
    },
    {
      "cell_type": "markdown",
      "source": [
        "After some attempts I found that a good set of values for the training was:\n",
        "- hidden_dimension = 256;\n",
        "- 4 SAGEConv layers;\n",
        "- 7 layers for the neural predictor;\n",
        "- 0.3 dropout for both. "
      ],
      "metadata": {
        "id": "9kagyhDCPl8u"
      }
    },
    {
      "cell_type": "code",
      "source": [
        "optimizer = torch.optim.Adam(\n",
        "            list(model.parameters())  +\n",
        "            list(predictor.parameters()), lr=0.001)\n",
        "\n",
        "scheduler = torch.optim.lr_scheduler.ReduceLROnPlateau(optimizer, 'min', factor=0.2, patience=10,\n",
        "                                                        threshold=0.0001)\n",
        "\n",
        "loss, val_loss = train(model, predictor, emb, adj_t, train_data, val_data, torch.nn.BCELoss(), \n",
        "                    optimizer, scheduler, 64 * 1024, 100, verbose=True)"
      ],
      "metadata": {
        "colab": {
          "base_uri": "https://localhost:8080/"
        },
        "outputId": "c2cbc881-75cd-4b85-92f2-f1f639a8551e",
        "id": "VjmGUE86MC3o"
      },
      "execution_count": 185,
      "outputs": [
        {
          "output_type": "stream",
          "name": "stdout",
          "text": [
            "Train the model ...\n",
            "\n",
            "Epoch: 5  Lr: 0.0010000  Loss: Train (BCE) = [1.379302] - Validation = [1.370598] \n",
            "Epoch: 10  Lr: 0.0010000  Loss: Train (BCE) = [1.154892] - Validation = [1.062976] \n",
            "Epoch: 15  Lr: 0.0010000  Loss: Train (BCE) = [0.528709] - Validation = [0.487214] \n",
            "Epoch: 20  Lr: 0.0010000  Loss: Train (BCE) = [0.439357] - Validation = [0.425795] \n",
            "Epoch: 25  Lr: 0.0010000  Loss: Train (BCE) = [0.409876] - Validation = [0.397790] \n",
            "Epoch: 30  Lr: 0.0010000  Loss: Train (BCE) = [0.388909] - Validation = [0.383916] \n",
            "Epoch: 35  Lr: 0.0010000  Loss: Train (BCE) = [0.381350] - Validation = [0.380741] \n",
            "Epoch: 40  Lr: 0.0010000  Loss: Train (BCE) = [0.359964] - Validation = [0.347660] \n",
            "Epoch: 45  Lr: 0.0010000  Loss: Train (BCE) = [0.353261] - Validation = [0.343924] \n",
            "Epoch: 50  Lr: 0.0010000  Loss: Train (BCE) = [0.344126] - Validation = [0.332646] \n",
            "Epoch: 55  Lr: 0.0010000  Loss: Train (BCE) = [0.336787] - Validation = [0.327401] \n",
            "Epoch: 60  Lr: 0.0010000  Loss: Train (BCE) = [0.330363] - Validation = [0.322189] \n",
            "Epoch: 65  Lr: 0.0010000  Loss: Train (BCE) = [0.321950] - Validation = [0.310920] \n",
            "Epoch: 70  Lr: 0.0010000  Loss: Train (BCE) = [0.314562] - Validation = [0.307424] \n",
            "Epoch: 75  Lr: 0.0010000  Loss: Train (BCE) = [0.310641] - Validation = [0.298685] \n",
            "Epoch: 80  Lr: 0.0010000  Loss: Train (BCE) = [0.303649] - Validation = [0.310498] \n",
            "Epoch: 85  Lr: 0.0010000  Loss: Train (BCE) = [0.306008] - Validation = [0.302294] \n",
            "Epoch: 90  Lr: 0.0010000  Loss: Train (BCE) = [0.296854] - Validation = [0.299726] \n",
            "Epoch: 95  Lr: 0.0010000  Loss: Train (BCE) = [0.287612] - Validation = [0.287963] \n",
            "Epoch: 100  Lr: 0.0010000  Loss: Train (BCE) = [0.292177] - Validation = [0.283556] \n"
          ]
        }
      ]
    },
    {
      "cell_type": "code",
      "source": [
        "plot_loss(loss, val_loss, (0.28, 1.4), (9, 6))"
      ],
      "metadata": {
        "colab": {
          "base_uri": "https://localhost:8080/",
          "height": 392
        },
        "id": "q16aMC5qN2Lw",
        "outputId": "ab0a206d-73a0-4642-e375-4bd006763179"
      },
      "execution_count": 187,
      "outputs": [
        {
          "output_type": "display_data",
          "data": {
            "text/plain": [
              "<Figure size 648x432 with 1 Axes>"
            ],
            "image/png": "[encoded data removed]"
          },
          "metadata": {
            "needs_background": "light"
          }
        }
      ]
    },
    {
      "cell_type": "code",
      "source": [
        "test_metrics = test_model(model, predictor, emb, adj_t, val_data, 20,\n",
        "                          metrics=['auc', 'recall', 'map'], num_comp=10)\n",
        "\n",
        "print_scores(test_metrics)"
      ],
      "metadata": {
        "colab": {
          "base_uri": "https://localhost:8080/"
        },
        "id": "M88Z5snVMPM_",
        "outputId": "56cec329-3824-480b-f8f0-c5ab9cc51b22"
      },
      "execution_count": 186,
      "outputs": [
        {
          "output_type": "stream",
          "name": "stdout",
          "text": [
            "The results for the AUROC@20:\n",
            "- score: 0.963609  - variance: 6e-08\n",
            "\n",
            "The results for the mAP@20:\n",
            "- score: 0.25372  - variance: 7.69e-06\n",
            "\n",
            "The results for the recall@20:\n",
            "- score: 0.447119  - variance: 4.65e-06\n",
            "\n"
          ]
        }
      ]
    },
    {
      "cell_type": "markdown",
      "source": [
        "With this predictor, I obtained better scores than with the post-processing model, clearly, a more expressive LinkPredictor can take the embeddings generated by our basic GNN and start making reasonably good predictions.\n",
        "\n",
        "The AUC is better than the one computed with the SAGE + the DotProduct predictor, this means that the model is able to predict better if an edge is a positive or a negative sample and it is also able to suggest more similar songs because both the mAP and the recall increased. "
      ],
      "metadata": {
        "id": "jwQQgdEPGOIn"
      }
    },
    {
      "cell_type": "markdown",
      "source": [
        "### GraphSAGE with edge features"
      ],
      "metadata": {
        "id": "Be8R_5SnRtJC"
      }
    },
    {
      "cell_type": "markdown",
      "source": [
        "The last thing that I want to try is to set some edge features, to check if this can lead to better suggestions.\n",
        "\n",
        "Prior work by [Lu et al.](https://github.com/lustoo/OGB_link_prediction/blob/main/Link%20prediction%20with%20structural%20information.pdf) found that distance encoding methods may work well for some datasets, as nodes that are estimated to be close together have a higher chance of being connected by an edge, therefore I will use those distances as edge features between nodes.\n",
        "\n",
        "Trying to calculate the shortest-path distances between all nodes can get computationally intractable. Instead, I can approximate distances by leveraging an anchor set of K randomly sampled nodes. I first calculate the distance from each of these K nodes to all other nodes in the graph. Then I use these distances to get a reasonable approximation of the distance between any two nodes in the graph.\n",
        "\n",
        "$d_{u,v} \\approx \\frac{1}{K} \\sum \\limits_{k \\in anchor} d_{k,u} + d_{k,v}$\n",
        "\n",
        "I can create the matrix of anchor set distances using networkx library, but first I need to convert the PyTorch sparse tensors to a scipy matrix."
      ],
      "metadata": {
        "id": "7n0kBVXBTkcv"
      }
    },
    {
      "cell_type": "code",
      "source": [
        "import networkx as nx\n",
        "import random"
      ],
      "metadata": {
        "id": "tMXQmFkZOjbg"
      },
      "execution_count": 16,
      "outputs": []
    },
    {
      "cell_type": "code",
      "source": [
        "scipy_mat = graph_dataset[0].adj_t.to_scipy(layout='coo')\n",
        "graph_anch = nx.Graph(scipy_mat)"
      ],
      "metadata": {
        "id": "HdC5bwXlR3rr"
      },
      "execution_count": 17,
      "outputs": []
    },
    {
      "cell_type": "markdown",
      "source": [
        "Naturally with larger values of K you get a better approximation of the distances between nodes, in my case I chose K=400 because it's a reasonable number for a set of ~6000 nodes."
      ],
      "metadata": {
        "id": "rgNn2EzeWbwO"
      }
    },
    {
      "cell_type": "code",
      "source": [
        "K = 5\n",
        "\n",
        "sampled_nodes = sorted(random.sample(graph_anch.nodes, K))\n",
        "spd = torch.ones(num_nodes, K, dtype=torch.float64)\n",
        "\n",
        "for k in tqdm(range(K), desc=\"Computing node distances\"):\n",
        "    distance_from_sample_k_to_all_nodes = nx.shortest_path_length(graph_anch, source=sampled_nodes[k])\n",
        "    #old_id = core_to_old_id[str(k)]\n",
        "    #track_id = id_to_track[str(old_id)]\n",
        "    #print(track_id)\n",
        "    # distance_from_sample_k_to_all_nodes is a dictionary of destinations, {678: dist, 1409: dist}\n",
        "    # I have to multiply the distance for the inverse of the similarity score, if exists, otherwise,\n",
        "    # multiply by 1/0.01\n",
        "    break\n",
        "    '''for node in distance_from_sample_k_to_all_nodes:\n",
        "        # For each node I have the distance from the k anchor nodes\n",
        "        spd[node][k] = distance_from_sample_k_to_all_nodes[node]'''\n",
        "\n",
        "#spd = spd.float()\n",
        "#print(spd)"
      ],
      "metadata": {
        "id": "IVJSGoZSQbQ0"
      },
      "execution_count": null,
      "outputs": []
    },
    {
      "cell_type": "code",
      "source": [
        "K = 400\n",
        "\n",
        "sampled_nodes = sorted(random.sample(graph_anch.nodes, K))\n",
        "spd = torch.ones(num_nodes, K, dtype=torch.float64)\n",
        "\n",
        "for k in tqdm(range(K), desc=\"Computing node distances\"):\n",
        "    distance_from_sample_k_to_all_nodes = nx.shortest_path_length(graph_anch, source=sampled_nodes[k])\n",
        "    for node in distance_from_sample_k_to_all_nodes:\n",
        "        # For each node I have the distance from the k anchor nodes\n",
        "        spd[node][k] = distance_from_sample_k_to_all_nodes[node]\n",
        "\n",
        "spd = spd.float()\n",
        "print(spd)"
      ],
      "metadata": {
        "colab": {
          "base_uri": "https://localhost:8080/"
        },
        "id": "yv-rQClaOSXv",
        "outputId": "582a23cc-d162-4bbf-e15b-cdcb6f609557"
      },
      "execution_count": 41,
      "outputs": [
        {
          "output_type": "stream",
          "name": "stderr",
          "text": [
            "Computing node distances: 100%|██████████| 400/400 [00:18<00:00, 22.12it/s]"
          ]
        },
        {
          "output_type": "stream",
          "name": "stdout",
          "text": [
            "tensor([[1., 1., 1.,  ..., 1., 1., 1.],\n",
            "        [4., 3., 1.,  ..., 3., 3., 3.],\n",
            "        [4., 4., 1.,  ..., 2., 4., 3.],\n",
            "        ...,\n",
            "        [3., 3., 1.,  ..., 4., 4., 4.],\n",
            "        [4., 3., 1.,  ..., 3., 3., 4.],\n",
            "        [4., 4., 1.,  ..., 2., 3., 0.]])\n"
          ]
        },
        {
          "output_type": "stream",
          "name": "stderr",
          "text": [
            "\n"
          ]
        }
      ]
    },
    {
      "cell_type": "markdown",
      "source": [
        "In order to include the edge features I have to change the SAGEConv layer to implement the message passing that considers them, a similar implementation can be found at [this link](https://github.com/lustoo/OGB_link_prediction/blob/main/DDI/link_pred_ddi_graphsage_edge.py).\n",
        "\n",
        "The message sent by a node $v$, neighbor of a node $u$ becomes:\n",
        "\n",
        "$m_v^l = h_v^{l-1} + W_e \\cdot d_{u,v}$\n"
      ],
      "metadata": {
        "id": "RbnAc9n0XJNj"
      }
    },
    {
      "cell_type": "code",
      "source": [
        "class SAGEConvWithEdges(MessagePassing):\n",
        "    def __init__(self, in_channels,\n",
        "                 out_channels, normalize = False,\n",
        "                 root_weight = True,\n",
        "                 bias = True, **kwargs):  \n",
        "        kwargs.setdefault('aggr', 'add')\n",
        "        super(SAGEConvWithEdges, self).__init__(**kwargs)\n",
        "\n",
        "        self.in_channels = in_channels\n",
        "        self.out_channels = out_channels\n",
        "        self.normalize = normalize\n",
        "        self.root_weight = root_weight\n",
        "\n",
        "        if isinstance(in_channels, int):\n",
        "            in_channels = (in_channels, in_channels)\n",
        "\n",
        "        self.lin_l = torch.nn.Linear(in_channels[0], out_channels, bias=bias)\n",
        "        self.lin_e = torch.nn.Linear(1, in_channels[0], bias=bias)\n",
        "        if self.root_weight:\n",
        "            self.lin_r = torch.nn.Linear(in_channels[1], out_channels, bias=False)\n",
        "\n",
        "        self.reset_parameters()\n",
        "\n",
        "    def reset_parameters(self):\n",
        "        self.lin_l.reset_parameters()\n",
        "        self.lin_e.reset_parameters()\n",
        "        if self.root_weight:\n",
        "            self.lin_r.reset_parameters()\n",
        "\n",
        "\n",
        "    def forward(self, x, edge_index, spd, size = None):\n",
        "        if isinstance(x, torch.Tensor):\n",
        "            x = (x, x)\n",
        "        # propagate() takes in the edge indices and all additional data which is\n",
        "        # needed to construct messages and to update node embeddings\n",
        "        out = self.propagate(edge_index, x=x, spd=spd)\n",
        "        out = self.lin_l(out)\n",
        "        \n",
        "        x_r = x[1]\n",
        "        if self.root_weight and x_r is not None:\n",
        "            out += self.lin_r(x_r)\n",
        "            \n",
        "        if self.normalize:\n",
        "          out = F.normalize(out, p=2., dim=-1)\n",
        "        return out\n",
        "\n",
        "\n",
        "    def message(self, x_j, spd_i, spd_j):\n",
        "        dist_mean = torch.mean(spd_i + spd_j, 1, True)\n",
        "        return F.relu(x_j + self.lin_e(dist_mean))\n",
        "\n",
        "\n",
        "    def __repr__(self):\n",
        "        return '{}({}, {})'.format(self.__class__.__name__, self.in_channels,\n",
        "                                   self.out_channels)"
      ],
      "metadata": {
        "id": "UYmy-zp1bDe2"
      },
      "execution_count": 105,
      "outputs": []
    },
    {
      "cell_type": "code",
      "source": [
        "class EdgeSAGE(torch.nn.Module):\n",
        "    def __init__(self, in_channels, hidden_channels, out_channels, num_layers,\n",
        "                 dropout, aggr=\"mean\"):\n",
        "        super(EdgeSAGE, self).__init__()\n",
        "\n",
        "        self.convs = torch.nn.ModuleList()\n",
        "        self.convs.append(SAGEConvWithEdges(in_channels, hidden_channels, normalize=True, aggr=aggr))\n",
        "        for _ in range(num_layers - 2):\n",
        "            self.convs.append(SAGEConvWithEdges(hidden_channels, hidden_channels, normalize=True, aggr=aggr))\n",
        "        self.convs.append(SAGEConvWithEdges(hidden_channels, out_channels, normalize=True, aggr=aggr))\n",
        "\n",
        "        self.dropout = dropout\n",
        "\n",
        "    def reset_parameters(self):\n",
        "        for conv in self.convs:\n",
        "            conv.reset_parameters()\n",
        "\n",
        "    def forward(self, x, edge_index, spd):\n",
        "        for conv in self.convs[:-1]:\n",
        "            x = conv(x, edge_index, spd)\n",
        "            x = F.relu(x)\n",
        "            x = F.dropout(x, p=self.dropout, training=self.training)\n",
        "        x = self.convs[-1](x, edge_index, spd)\n",
        "        return x"
      ],
      "metadata": {
        "id": "SGMs6E_6nPqR"
      },
      "execution_count": 106,
      "outputs": []
    },
    {
      "cell_type": "code",
      "source": [
        "hidden_dimension = 256\n",
        "\n",
        "spd = spd.to(device)\n",
        "\n",
        "model = EdgeSAGE(emb.size(1), hidden_dimension, hidden_dimension, 5, 0.4).to(device)\n",
        "predictor = NeuralLinkPredictor(hidden_dimension, hidden_dimension, 1, 5, 0.4).to(device)"
      ],
      "metadata": {
        "id": "Vas-gN8Cna5o"
      },
      "execution_count": 135,
      "outputs": []
    },
    {
      "cell_type": "code",
      "source": [
        "optimizer = torch.optim.Adam(\n",
        "            list(model.parameters())  +\n",
        "            list(predictor.parameters()), lr=0.001)\n",
        "\n",
        "scheduler = torch.optim.lr_scheduler.ReduceLROnPlateau(optimizer, 'min', factor=0.2, patience=10,\n",
        "                                                        threshold=0.0001, cooldown=2)\n",
        "\n",
        "loss, val_loss = train(model, predictor, emb, adj_t, train_data, val_data, torch.nn.BCELoss(), \n",
        "                    optimizer, scheduler, 64 * 1024, 200, edge_model=True, spd=spd, verbose=True)"
      ],
      "metadata": {
        "colab": {
          "base_uri": "https://localhost:8080/"
        },
        "id": "R2m_PxTgnold",
        "outputId": "1c656d37-2eb2-4d1b-e873-6acf2f1575e6"
      },
      "execution_count": 136,
      "outputs": [
        {
          "output_type": "stream",
          "name": "stdout",
          "text": [
            "Train the model ...\n",
            "\n",
            "Epoch: 5  Lr: 0.0010000  Loss: Train (BCE) = [1.386266] - Validation = [1.386047] \n",
            "Epoch: 10  Lr: 0.0010000  Loss: Train (BCE) = [1.370931] - Validation = [1.357678] \n",
            "Epoch: 15  Lr: 0.0010000  Loss: Train (BCE) = [1.261181] - Validation = [1.228924] \n",
            "Epoch: 20  Lr: 0.0010000  Loss: Train (BCE) = [1.080303] - Validation = [1.044715] \n",
            "Epoch: 25  Lr: 0.0010000  Loss: Train (BCE) = [0.987931] - Validation = [0.981130] \n",
            "Epoch: 30  Lr: 0.0010000  Loss: Train (BCE) = [0.953103] - Validation = [1.021086] \n",
            "Epoch: 35  Lr: 0.0010000  Loss: Train (BCE) = [0.935077] - Validation = [0.926629] \n",
            "Epoch: 40  Lr: 0.0010000  Loss: Train (BCE) = [0.925984] - Validation = [0.907667] \n",
            "Epoch: 45  Lr: 0.0010000  Loss: Train (BCE) = [0.916214] - Validation = [0.914260] \n",
            "Epoch: 50  Lr: 0.0010000  Loss: Train (BCE) = [0.910810] - Validation = [0.907937] \n",
            "Epoch: 55  Lr: 0.0010000  Loss: Train (BCE) = [0.909634] - Validation = [0.905063] \n",
            "Epoch: 60  Lr: 0.0010000  Loss: Train (BCE) = [0.904972] - Validation = [0.899449] \n",
            "Epoch: 65  Lr: 0.0010000  Loss: Train (BCE) = [0.898236] - Validation = [0.898084] \n",
            "Epoch: 70  Lr: 0.0010000  Loss: Train (BCE) = [0.902911] - Validation = [0.884628] \n",
            "Epoch: 75  Lr: 0.0010000  Loss: Train (BCE) = [0.917468] - Validation = [0.904993] \n",
            "Epoch: 80  Lr: 0.0010000  Loss: Train (BCE) = [0.902432] - Validation = [0.895850] \n",
            "Epoch: 85  Lr: 0.0002000  Loss: Train (BCE) = [0.894849] - Validation = [0.901818] \n",
            "Epoch: 90  Lr: 0.0002000  Loss: Train (BCE) = [0.890872] - Validation = [0.891182] \n",
            "Epoch: 95  Lr: 0.0002000  Loss: Train (BCE) = [0.888017] - Validation = [0.890805] \n",
            "Epoch: 100  Lr: 0.0002000  Loss: Train (BCE) = [0.886630] - Validation = [0.881555] \n",
            "Epoch: 105  Lr: 0.0002000  Loss: Train (BCE) = [0.879483] - Validation = [0.885916] \n",
            "Epoch: 110  Lr: 0.0002000  Loss: Train (BCE) = [0.881722] - Validation = [0.880178] \n",
            "Epoch: 115  Lr: 0.0002000  Loss: Train (BCE) = [0.876797] - Validation = [0.863390] \n",
            "Epoch: 120  Lr: 0.0002000  Loss: Train (BCE) = [0.875764] - Validation = [0.874720] \n",
            "Epoch: 125  Lr: 0.0002000  Loss: Train (BCE) = [0.873818] - Validation = [0.859112] \n",
            "Epoch: 130  Lr: 0.0002000  Loss: Train (BCE) = [0.866720] - Validation = [0.864332] \n",
            "Epoch: 135  Lr: 0.0002000  Loss: Train (BCE) = [0.858024] - Validation = [0.850833] \n",
            "Epoch: 140  Lr: 0.0002000  Loss: Train (BCE) = [0.848451] - Validation = [0.845990] \n",
            "Epoch: 145  Lr: 0.0002000  Loss: Train (BCE) = [0.833384] - Validation = [0.826287] \n",
            "Epoch: 150  Lr: 0.0002000  Loss: Train (BCE) = [0.816459] - Validation = [0.818008] \n",
            "Epoch: 155  Lr: 0.0002000  Loss: Train (BCE) = [0.805954] - Validation = [0.887505] \n",
            "Epoch: 160  Lr: 0.0002000  Loss: Train (BCE) = [0.813556] - Validation = [0.829687] \n",
            "Epoch: 165  Lr: 0.0002000  Loss: Train (BCE) = [0.795973] - Validation = [0.805366] \n",
            "Epoch: 170  Lr: 0.0000400  Loss: Train (BCE) = [0.795972] - Validation = [0.783736] \n",
            "Epoch: 175  Lr: 0.0000400  Loss: Train (BCE) = [0.790617] - Validation = [0.790205] \n",
            "Epoch: 180  Lr: 0.0000400  Loss: Train (BCE) = [0.792533] - Validation = [0.788763] \n",
            "Epoch: 185  Lr: 0.0000400  Loss: Train (BCE) = [0.789644] - Validation = [0.788371] \n",
            "Epoch: 190  Lr: 0.0000080  Loss: Train (BCE) = [0.786752] - Validation = [0.768755] \n",
            "Epoch: 195  Lr: 0.0000080  Loss: Train (BCE) = [0.788812] - Validation = [0.776365] \n",
            "Epoch: 200  Lr: 0.0000080  Loss: Train (BCE) = [0.787371] - Validation = [0.788162] \n"
          ]
        }
      ]
    },
    {
      "cell_type": "code",
      "source": [
        "plot_loss(loss, val_loss, (0.7, 1.4), (9, 6))"
      ],
      "metadata": {
        "colab": {
          "base_uri": "https://localhost:8080/",
          "height": 392
        },
        "id": "qaDUNvnSJktv",
        "outputId": "112f2051-e189-4121-db99-869589078b77"
      },
      "execution_count": 150,
      "outputs": [
        {
          "output_type": "display_data",
          "data": {
            "text/plain": [
              "<Figure size 648x432 with 1 Axes>"
            ],
            "image/png": "[encoded data removed]"
          },
          "metadata": {
            "needs_background": "light"
          }
        }
      ]
    },
    {
      "cell_type": "code",
      "source": [
        "test_metrics = test_model(model, predictor, emb, adj_t, val_data, 20,\n",
        "                          metrics=['auc', 'recall', 'map'], num_comp=10,\n",
        "                          edge_model=True, spd=spd)\n",
        "\n",
        "print_scores(test_metrics)"
      ],
      "metadata": {
        "colab": {
          "base_uri": "https://localhost:8080/"
        },
        "id": "kpJ8dIHenr25",
        "outputId": "b7c19914-c753-4910-f4a7-550e7058e4d9"
      },
      "execution_count": 137,
      "outputs": [
        {
          "output_type": "stream",
          "name": "stdout",
          "text": [
            "The results for the AUROC@20:\n",
            "- score: 0.865449  - variance: 1.3e-07\n",
            "\n",
            "The results for the mAP@20:\n",
            "- score: 0.100407  - variance: 1.83e-06\n",
            "\n",
            "The results for the recall@20:\n",
            "- score: 0.216034  - variance: 3.14e-06\n",
            "\n"
          ]
        }
      ]
    },
    {
      "cell_type": "markdown",
      "source": [
        "### GCN with neural predictor"
      ],
      "metadata": {
        "id": "g1XjFG307wbp"
      }
    },
    {
      "cell_type": "code",
      "source": [
        "from torch_geometric.nn import GCNConv\n",
        "\n",
        "class GCN(torch.nn.Module):\n",
        "    def __init__(self, in_channels, hidden_channels, out_channels, num_layers,\n",
        "                 dropout):\n",
        "        super(GCN, self).__init__()\n",
        "\n",
        "        self.convs = torch.nn.ModuleList()\n",
        "        self.convs.append(GCNConv(in_channels, hidden_channels, cached=False))\n",
        "        self.bns = torch.nn.ModuleList()\n",
        "        self.bns.append(torch.nn.BatchNorm1d(hidden_channels))\n",
        "        for _ in range(num_layers - 2):\n",
        "            self.convs.append(\n",
        "                GCNConv(hidden_channels, hidden_channels, cached=False))\n",
        "            self.bns.append(torch.nn.BatchNorm1d(hidden_channels))\n",
        "        self.convs.append(GCNConv(hidden_channels, out_channels, cached=False))\n",
        "        self.dropout = dropout\n",
        "\n",
        "    def reset_parameters(self):\n",
        "        for conv in self.convs:\n",
        "            conv.reset_parameters()\n",
        "        for bn in self.bns:\n",
        "            bn.reset_parameters()\n",
        "\n",
        "    def forward(self, x, adj_t):\n",
        "        for i, conv in enumerate(self.convs[:-1]):\n",
        "            x = conv(x, adj_t)\n",
        "            x = self.bns[i](x)\n",
        "            x = F.relu(x)\n",
        "            x = F.dropout(x, p=self.dropout, training=self.training)\n",
        "        x = self.convs[-1](x, adj_t)\n",
        "        return x"
      ],
      "metadata": {
        "id": "mH9RGQrjw15H"
      },
      "execution_count": 64,
      "outputs": []
    },
    {
      "cell_type": "code",
      "source": [
        "hidden_dimension = 256\n",
        "\n",
        "model = GCN(emb.size(1), hidden_dimension, hidden_dimension, 7, 0.3).to(device)\n",
        "predictor = NeuralLinkPredictor(hidden_dimension, hidden_dimension, 1, 7, 0.4).to(device)"
      ],
      "metadata": {
        "id": "zNw4_saq6bSg"
      },
      "execution_count": 71,
      "outputs": []
    },
    {
      "cell_type": "code",
      "source": [
        "optimizer = torch.optim.Adam(\n",
        "            list(model.parameters())  +\n",
        "            list(predictor.parameters()), lr=0.001)\n",
        "\n",
        "scheduler = torch.optim.lr_scheduler.ReduceLROnPlateau(optimizer, 'min', factor=0.2, patience=10,\n",
        "                                                        threshold=0.0001)\n",
        "\n",
        "loss, val_loss = train(model, predictor, emb, adj_t, train_data, val_data, torch.nn.BCELoss(), \n",
        "                    optimizer, scheduler, 64 * 1024, 100, verbose=True)"
      ],
      "metadata": {
        "colab": {
          "base_uri": "https://localhost:8080/"
        },
        "id": "O2nylrX46bSg",
        "outputId": "b2853d47-c975-4006-f7ae-b5063d59183a"
      },
      "execution_count": 72,
      "outputs": [
        {
          "output_type": "stream",
          "name": "stdout",
          "text": [
            "Train the model ...\n",
            "\n",
            "Epoch: 5  Lr: 0.0010000  Loss: Train (BCE) = [1.385646] - Validation = [1.384085] \n",
            "Epoch: 10  Lr: 0.0010000  Loss: Train (BCE) = [1.320688] - Validation = [1.290609] \n",
            "Epoch: 15  Lr: 0.0010000  Loss: Train (BCE) = [1.308740] - Validation = [1.299301] \n",
            "Epoch: 20  Lr: 0.0010000  Loss: Train (BCE) = [1.173286] - Validation = [1.136123] \n",
            "Epoch: 25  Lr: 0.0010000  Loss: Train (BCE) = [1.048010] - Validation = [1.070661] \n",
            "Epoch: 30  Lr: 0.0010000  Loss: Train (BCE) = [1.039576] - Validation = [1.031738] \n",
            "Epoch: 35  Lr: 0.0010000  Loss: Train (BCE) = [1.032375] - Validation = [1.020673] \n",
            "Epoch: 40  Lr: 0.0010000  Loss: Train (BCE) = [1.014950] - Validation = [1.017002] \n",
            "Epoch: 45  Lr: 0.0010000  Loss: Train (BCE) = [1.012689] - Validation = [1.014695] \n",
            "Epoch: 50  Lr: 0.0010000  Loss: Train (BCE) = [0.983535] - Validation = [0.941653] \n",
            "Epoch: 55  Lr: 0.0010000  Loss: Train (BCE) = [0.835188] - Validation = [0.819557] \n",
            "Epoch: 60  Lr: 0.0010000  Loss: Train (BCE) = [0.816867] - Validation = [0.806459] \n",
            "Epoch: 65  Lr: 0.0010000  Loss: Train (BCE) = [0.790445] - Validation = [0.789702] \n",
            "Epoch: 70  Lr: 0.0010000  Loss: Train (BCE) = [0.794058] - Validation = [0.772812] \n",
            "Epoch: 75  Lr: 0.0010000  Loss: Train (BCE) = [0.790294] - Validation = [0.788532] \n",
            "Epoch: 80  Lr: 0.0010000  Loss: Train (BCE) = [0.776354] - Validation = [0.749512] \n",
            "Epoch: 85  Lr: 0.0010000  Loss: Train (BCE) = [0.621061] - Validation = [0.608722] \n",
            "Epoch: 90  Lr: 0.0010000  Loss: Train (BCE) = [0.596516] - Validation = [0.590918] \n",
            "Epoch: 95  Lr: 0.0010000  Loss: Train (BCE) = [0.562547] - Validation = [0.565376] \n",
            "Epoch: 100  Lr: 0.0010000  Loss: Train (BCE) = [0.523328] - Validation = [0.530482] \n"
          ]
        }
      ]
    },
    {
      "cell_type": "code",
      "source": [
        "test_metrics = test_model(model, predictor, emb, adj_t, val_data, 20,\n",
        "                          metrics=['auc', 'recall', 'map'], num_comp=10)\n",
        "\n",
        "print_scores(test_metrics)"
      ],
      "metadata": {
        "colab": {
          "base_uri": "https://localhost:8080/"
        },
        "outputId": "09240698-6ef1-4fa4-f141-7611151b47e3",
        "id": "Avn5-jNP6bSg"
      },
      "execution_count": 74,
      "outputs": [
        {
          "output_type": "stream",
          "name": "stdout",
          "text": [
            "The results for the AUROC@20:\n",
            "- score: 0.909072  - variance: 9e-08\n",
            "\n",
            "The results for the mAP@20:\n",
            "- score: 0.083189  - variance: 1.92e-06\n",
            "\n",
            "The results for the recall@20:\n",
            "- score: 0.213462  - variance: 3.35e-06\n",
            "\n"
          ]
        }
      ]
    },
    {
      "cell_type": "markdown",
      "source": [
        "### GAT + neural predictor"
      ],
      "metadata": {
        "id": "aELI99bu75dm"
      }
    },
    {
      "cell_type": "code",
      "source": [
        "from torch_geometric.nn import GATConv\n",
        "\n",
        "class GAT(torch.nn.Module):\n",
        "    def __init__(self, in_channels, hidden_channels, out_channels, num_layers,\n",
        "                 dropout):\n",
        "        super(GAT, self).__init__()\n",
        "\n",
        "        self.convs = torch.nn.ModuleList()\n",
        "        self.convs.append(GATConv(in_channels, hidden_channels, heads=4))\n",
        "        self.bns = torch.nn.ModuleList()\n",
        "        self.bns.append(torch.nn.BatchNorm1d(hidden_channels*4))\n",
        "        for _ in range(num_layers - 2):\n",
        "            self.convs.append(\n",
        "                GATConv(hidden_channels*4, hidden_channels, heads=4))\n",
        "            self.bns.append(torch.nn.BatchNorm1d(hidden_channels*4))\n",
        "        self.convs.append(GATConv(hidden_channels*4, out_channels, heads=4, concat=False))\n",
        "        self.dropout = dropout\n",
        "\n",
        "    def reset_parameters(self):\n",
        "        for conv in self.convs:\n",
        "            conv.reset_parameters()\n",
        "        for bn in self.bns:\n",
        "            bn.reset_parameters()\n",
        "\n",
        "    def forward(self, x, adj_t):\n",
        "        for i, conv in enumerate(self.convs[:-1]):\n",
        "            x = conv(x, adj_t)\n",
        "            x = self.bns[i](x)\n",
        "            x = F.relu(x)\n",
        "            x = F.dropout(x, p=self.dropout, training=self.training)\n",
        "        x = self.convs[-1](x, adj_t)\n",
        "        return x"
      ],
      "metadata": {
        "id": "mjVPbyexw1zb"
      },
      "execution_count": 75,
      "outputs": []
    },
    {
      "cell_type": "code",
      "source": [
        "hidden_dimension = 256\n",
        "\n",
        "model = GAT(emb.size(1), hidden_dimension, hidden_dimension, 5, 0.3).to(device)\n",
        "predictor = NeuralLinkPredictor(hidden_dimension, hidden_dimension, 1, 5, 0.4).to(device)"
      ],
      "metadata": {
        "id": "LCgIgs9z9yg5"
      },
      "execution_count": 76,
      "outputs": []
    },
    {
      "cell_type": "code",
      "source": [
        "optimizer = torch.optim.Adam(\n",
        "            list(model.parameters())  +\n",
        "            list(predictor.parameters()), lr=0.001)\n",
        "\n",
        "scheduler = torch.optim.lr_scheduler.ReduceLROnPlateau(optimizer, 'min', factor=0.2, patience=10,\n",
        "                                                        threshold=0.0001)\n",
        "\n",
        "loss, val_loss = train(model, predictor, emb, adj_t, train_data, val_data, torch.nn.BCELoss(), \n",
        "                    optimizer, scheduler, 64 * 1024, 100, verbose=True)"
      ],
      "metadata": {
        "colab": {
          "base_uri": "https://localhost:8080/"
        },
        "outputId": "fc24a4d3-1d30-4c29-fea1-82e4ee5b77ac",
        "id": "YtTLS1mX9yg5"
      },
      "execution_count": 77,
      "outputs": [
        {
          "output_type": "stream",
          "name": "stdout",
          "text": [
            "Train the model ...\n",
            "\n",
            "Epoch: 5  Lr: 0.0010000  Loss: Train (BCE) = [1.372739] - Validation = [1.320970] \n",
            "Epoch: 10  Lr: 0.0010000  Loss: Train (BCE) = [1.011826] - Validation = [0.907533] \n",
            "Epoch: 15  Lr: 0.0010000  Loss: Train (BCE) = [0.906197] - Validation = [0.893095] \n",
            "Epoch: 20  Lr: 0.0010000  Loss: Train (BCE) = [0.899178] - Validation = [0.893971] \n",
            "Epoch: 25  Lr: 0.0010000  Loss: Train (BCE) = [0.892130] - Validation = [0.876857] \n",
            "Epoch: 30  Lr: 0.0010000  Loss: Train (BCE) = [0.885757] - Validation = [0.879983] \n",
            "Epoch: 35  Lr: 0.0010000  Loss: Train (BCE) = [0.878482] - Validation = [0.869664] \n",
            "Epoch: 40  Lr: 0.0010000  Loss: Train (BCE) = [0.852742] - Validation = [0.811986] \n",
            "Epoch: 45  Lr: 0.0010000  Loss: Train (BCE) = [0.725015] - Validation = [0.712514] \n",
            "Epoch: 50  Lr: 0.0010000  Loss: Train (BCE) = [0.673122] - Validation = [0.672182] \n",
            "Epoch: 55  Lr: 0.0010000  Loss: Train (BCE) = [0.654619] - Validation = [0.647707] \n",
            "Epoch: 60  Lr: 0.0010000  Loss: Train (BCE) = [0.637345] - Validation = [0.633991] \n",
            "Epoch: 65  Lr: 0.0010000  Loss: Train (BCE) = [0.647603] - Validation = [0.633851] \n",
            "Epoch: 70  Lr: 0.0010000  Loss: Train (BCE) = [0.641395] - Validation = [0.627227] \n",
            "Epoch: 75  Lr: 0.0002000  Loss: Train (BCE) = [0.622404] - Validation = [0.613928] \n",
            "Epoch: 80  Lr: 0.0002000  Loss: Train (BCE) = [0.608667] - Validation = [0.600652] \n",
            "Epoch: 85  Lr: 0.0002000  Loss: Train (BCE) = [0.600528] - Validation = [0.604058] \n",
            "Epoch: 90  Lr: 0.0002000  Loss: Train (BCE) = [0.583377] - Validation = [0.562978] \n",
            "Epoch: 95  Lr: 0.0002000  Loss: Train (BCE) = [0.575418] - Validation = [0.577452] \n",
            "Epoch: 100  Lr: 0.0002000  Loss: Train (BCE) = [0.564086] - Validation = [0.560564] \n"
          ]
        }
      ]
    },
    {
      "cell_type": "code",
      "source": [
        "test_metrics = test_model(model, predictor, emb, adj_t, val_data, 20,\n",
        "                          metrics=['auc', 'recall', 'map'], num_comp=10)\n",
        "\n",
        "print_scores(test_metrics)"
      ],
      "metadata": {
        "colab": {
          "base_uri": "https://localhost:8080/"
        },
        "outputId": "a49ee380-6423-4844-da69-683332c35873",
        "id": "32q-bj1O9yg5"
      },
      "execution_count": 78,
      "outputs": [
        {
          "output_type": "stream",
          "name": "stdout",
          "text": [
            "The results for the AUROC@20:\n",
            "- score: 0.910452  - variance: 1.3e-07\n",
            "\n",
            "The results for the mAP@20:\n",
            "- score: 0.088083  - variance: 1.69e-06\n",
            "\n",
            "The results for the recall@20:\n",
            "- score: 0.204469  - variance: 5.78e-06\n",
            "\n"
          ]
        }
      ]
    }
  ]
}