{
  "nbformat": 4,
  "nbformat_minor": 0,
  "metadata": {
    "colab": {
      "provenance": []
    },
    "kernelspec": {
      "name": "python3",
      "display_name": "Python 3"
    },
    "language_info": {
      "name": "python"
    }
  },
  "cells": [
    {
      "cell_type": "code",
      "source": [
        "%load_ext autoreload\n",
        "%autoreload 2"
      ],
      "metadata": {
        "id": "Z8QnWhvoWvhs",
        "colab": {
          "base_uri": "https://localhost:8080/"
        },
        "outputId": "1e5dd847-0803-43de-97a3-fa54517c01fb"
      },
      "execution_count": 14,
      "outputs": [
        {
          "output_type": "stream",
          "name": "stdout",
          "text": [
            "The autoreload extension is already loaded. To reload it, use:\n",
            "  %reload_ext autoreload\n"
          ]
        }
      ]
    },
    {
      "cell_type": "markdown",
      "source": [
        "TODO: prendi tag, tieni solo le righe con tag umani/famosi, rimuovi duplicati, tieni solo le righe di cui abbiamo i testi. guarda cosa ci rimane."
      ],
      "metadata": {
        "id": "x8UJy81CjGFv"
      }
    },
    {
      "cell_type": "code",
      "source": [
        "#!pip install gdown -q\n",
        "!pip install --upgrade --no-cache-dir -q gdown"
      ],
      "metadata": {
        "id": "c6WCiStzNd7G"
      },
      "execution_count": 2,
      "outputs": []
    },
    {
      "cell_type": "code",
      "source": [
        "import pandas as pd\n",
        "import numpy as np\n",
        "\n",
        "import os, json\n",
        "import urllib.request\n",
        "from tqdm import tqdm\n",
        "import shutil\n",
        "\n",
        "import sqlite3\n",
        "import gdown\n",
        "\n",
        "!rm -r sample_data"
      ],
      "metadata": {
        "id": "mbt-Onr9o0Jc",
        "colab": {
          "base_uri": "https://localhost:8080/"
        },
        "outputId": "e852aab4-a954-4ea6-ca1b-8e10ec2636d3"
      },
      "execution_count": 15,
      "outputs": [
        {
          "output_type": "stream",
          "name": "stdout",
          "text": [
            "rm: cannot remove 'sample_data': No such file or directory\n"
          ]
        }
      ]
    },
    {
      "cell_type": "code",
      "source": [
        "from google.colab import drive\n",
        "drive.mount('/content/drive')"
      ],
      "metadata": {
        "id": "dvDAWC7oevB8",
        "colab": {
          "base_uri": "https://localhost:8080/"
        },
        "outputId": "f52e50f3-2843-477a-bbf0-6b45f0367c86"
      },
      "execution_count": 16,
      "outputs": [
        {
          "output_type": "stream",
          "name": "stdout",
          "text": [
            "Mounted at /content/drive\n"
          ]
        }
      ]
    },
    {
      "cell_type": "markdown",
      "source": [
        "## Download the files and create the songs dataset"
      ],
      "metadata": {
        "id": "OOkj6Pqso4o9"
      }
    },
    {
      "cell_type": "markdown",
      "source": [
        "In the following cells you can choose between downloading and creating the dataset from the [Million Song Dataset](http://millionsongdataset.com/musixmatch/) (the Musixmatch version) or copying the already created files from Drive."
      ],
      "metadata": {
        "id": "9L7GseIgpt9j"
      }
    },
    {
      "cell_type": "code",
      "source": [
        "#@title #### Download and create the datasets\n",
        "#url_script = \"\"\n",
        "#gdown.download(id=url_script, output=\"create_dataset.py\", quiet=True)\n",
        "\n",
        "!python create_dataset.py"
      ],
      "metadata": {
        "cellView": "form",
        "id": "5Tb0GhggjyyF"
      },
      "execution_count": null,
      "outputs": []
    },
    {
      "cell_type": "code",
      "source": [
        "#@title #### Load the files from Drive\n",
        "import gdown\n",
        "\n",
        "# File ids in Drive\n",
        "url_song_data = \"1-1qWoNBQhIerh74mo4NbMzUCJqgpDXkx\"\n",
        "url_eval_data = \"1U8mNVgoC2kwzTwalc0oAJEEIHXOIyL4N\"\n",
        "\n",
        "gdown.download(id=url_song_data, output=\"songs_data.csv\", quiet=False)\n",
        "gdown.download(id=url_eval_data, output=\"eval_similar_songs.csv\", quiet=False)"
      ],
      "metadata": {
        "id": "yQDiL4g_guxc"
      },
      "execution_count": null,
      "outputs": []
    },
    {
      "cell_type": "code",
      "source": [
        "songs_df = pd.read_csv('songs_data.csv')\n",
        "eval_df = pd.read_csv('eval_similar_songs.csv')"
      ],
      "metadata": {
        "id": "FgpJ4lhufugJ"
      },
      "execution_count": 18,
      "outputs": []
    }
  ]
}